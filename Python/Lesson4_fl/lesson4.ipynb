{
 "cells": [
  {
   "cell_type": "code",
   "execution_count": 1,
   "id": "51f7578b-2ae1-4752-ae82-d20fc10f12b4",
   "metadata": {},
   "outputs": [],
   "source": [
    "import pandas as pd"
   ]
  },
  {
   "cell_type": "code",
   "execution_count": 2,
   "id": "597172ee-29ad-4198-932e-3a0d8dea5458",
   "metadata": {},
   "outputs": [],
   "source": [
    "import os"
   ]
  },
  {
   "cell_type": "code",
   "execution_count": 3,
   "id": "5980792f-83a8-4244-bdc9-12696504c7e3",
   "metadata": {},
   "outputs": [],
   "source": [
    "# [i for i in os.listdir('../../') if not i.startswith('.')]"
   ]
  },
  {
   "cell_type": "code",
   "execution_count": 4,
   "id": "0c68e3e8-263e-4be9-92aa-4d23932ae8be",
   "metadata": {},
   "outputs": [],
   "source": [
    "folders = os.listdir('../../')"
   ]
  },
  {
   "cell_type": "code",
   "execution_count": 5,
   "id": "17cd3988-64f6-4f17-adac-ba17eb270485",
   "metadata": {},
   "outputs": [
    {
     "data": {
      "text/plain": [
       "['.git', 'Python']"
      ]
     },
     "execution_count": 5,
     "metadata": {},
     "output_type": "execute_result"
    }
   ],
   "source": [
    "folders"
   ]
  },
  {
   "cell_type": "code",
   "execution_count": 6,
   "id": "9518be36-b9bc-487a-8f5a-753a76c9f46a",
   "metadata": {},
   "outputs": [
    {
     "name": "stdout",
     "output_type": "stream",
     "text": [
      "Python\n"
     ]
    }
   ],
   "source": [
    "for i in folders:\n",
    "    if not i.startswith('.'):\n",
    "        print(i)"
   ]
  },
  {
   "cell_type": "code",
   "execution_count": 7,
   "id": "0201f111-7a26-45f7-bdde-0e7b5246bfa8",
   "metadata": {},
   "outputs": [
    {
     "data": {
      "text/plain": [
       "['Python']"
      ]
     },
     "execution_count": 7,
     "metadata": {},
     "output_type": "execute_result"
    }
   ],
   "source": [
    "[i for i in folders if not i.startswith('.')]"
   ]
  },
  {
   "cell_type": "code",
   "execution_count": 8,
   "id": "3385f1c6-b94b-4121-acdf-688671399c44",
   "metadata": {},
   "outputs": [],
   "source": [
    "p = '../../Python/EXAMPLE.txt'"
   ]
  },
  {
   "cell_type": "code",
   "execution_count": 9,
   "id": "56a8b418-a646-42d7-8b2d-d3e42e2f8426",
   "metadata": {},
   "outputs": [
    {
     "data": {
      "text/plain": [
       "['\\n',\n",
       " '\\n',\n",
       " '-----------------------------------------------------------\\n',\n",
       " 'client\\tpremium\\tage\\tsuccess\\tplatform\\ttime\\n',\n",
       " '0\\t46346\\tFalse\\t58\\tTrue\\tphone\\t1585452839\\n',\n",
       " '1\\t4391\\tFalse\\t55\\tFalse\\tphone\\t1585409861\\n',\n",
       " '2\\t27372\\tFalse\\t64\\tFalse\\tphone\\t1585446018\\n',\n",
       " '3\\t11989\\tFalse\\t44\\tTrue\\tcomputer\\t1585403698\\n',\n",
       " '4\\t60664\\tFalse\\t49\\tTrue\\tphone\\t1585406918\\n',\n",
       " '\\n',\n",
       " '------------------------------------------------------------\\n',\n",
       " '3434\\t19411\\tFalse\\t29\\tTrue\\tphone\\t1585400902\\n',\n",
       " '3435\\t61579\\tFalse\\t50\\tTrue\\tphone\\t1585436158\\n',\n",
       " '3436\\t61221\\tTrue\\t64\\tTrue\\tphone\\t1585440218\\n',\n",
       " '3437\\t29863\\tFalse\\t46\\tTrue\\ttablet\\t1585443437\\n',\n",
       " '3438\\t78499\\tFalse\\t36\\tFalse\\tphone\\t1585425483\\n',\n",
       " '\\n',\n",
       " '\\n',\n",
       " '\\n',\n",
       " '-------------------------------------------------------------\\n',\n",
       " '\\n',\n",
       " 'NEW FIRST LINE\\n',\n",
       " '-------------------------------------------------------------']"
      ]
     },
     "execution_count": 9,
     "metadata": {},
     "output_type": "execute_result"
    }
   ],
   "source": [
    "open(p).readlines()"
   ]
  },
  {
   "cell_type": "code",
   "execution_count": 10,
   "id": "40d00b19-1c10-491b-a551-cb3c7aa9df31",
   "metadata": {},
   "outputs": [],
   "source": [
    "x= [1,2,'start',3,4,'end',5,6]"
   ]
  },
  {
   "cell_type": "code",
   "execution_count": 11,
   "id": "9f76d80b-d7b8-44ef-aa24-f48ee91949a9",
   "metadata": {},
   "outputs": [
    {
     "data": {
      "text/plain": [
       "[1, 2, 'start', 3, 4, 'end', 5, 6]"
      ]
     },
     "execution_count": 11,
     "metadata": {},
     "output_type": "execute_result"
    }
   ],
   "source": [
    "x"
   ]
  },
  {
   "cell_type": "code",
   "execution_count": 12,
   "id": "d959556a-cc16-445d-a328-ccdad7bac19c",
   "metadata": {},
   "outputs": [
    {
     "data": {
      "text/plain": [
       "[3, 4]"
      ]
     },
     "execution_count": 12,
     "metadata": {},
     "output_type": "execute_result"
    }
   ],
   "source": [
    "y= []\n",
    "status= False\n",
    "for i in x:\n",
    "    if i == 'start':\n",
    "        status = True\n",
    "        continue\n",
    "\n",
    "    if i == 'end':\n",
    "        status = False\n",
    "\n",
    "    if status:\n",
    "        y.append(i)\n",
    "y"
   ]
  },
  {
   "cell_type": "code",
   "execution_count": 13,
   "id": "cb557248-4c84-4897-9f46-a3faf0fbf1c3",
   "metadata": {},
   "outputs": [
    {
     "data": {
      "text/plain": [
       "[['client', 'premium', 'age', 'success', 'platform', 'time'],\n",
       " ['0', '46346', 'False', '58', 'True', 'phone', '1585452839'],\n",
       " ['1', '4391', 'False', '55', 'False', 'phone', '1585409861'],\n",
       " ['2', '27372', 'False', '64', 'False', 'phone', '1585446018'],\n",
       " ['3', '11989', 'False', '44', 'True', 'computer', '1585403698'],\n",
       " ['4', '60664', 'False', '49', 'True', 'phone', '1585406918'],\n",
       " ['3434', '19411', 'False', '29', 'True', 'phone', '1585400902'],\n",
       " ['3435', '61579', 'False', '50', 'True', 'phone', '1585436158'],\n",
       " ['3436', '61221', 'True', '64', 'True', 'phone', '1585440218'],\n",
       " ['3437', '29863', 'False', '46', 'True', 'tablet', '1585443437'],\n",
       " ['3438', '78499', 'False', '36', 'False', 'phone', '1585425483']]"
      ]
     },
     "execution_count": 13,
     "metadata": {},
     "output_type": "execute_result"
    }
   ],
   "source": [
    "datalist = []\n",
    "status= False\n",
    "for i in open(p).readlines():\n",
    "    \n",
    "    if 'NEW FIRST LINE' in i:\n",
    "        status = False\n",
    "        continue\n",
    "        \n",
    "    if '-----' in i:\n",
    "        status = True\n",
    "        continue\n",
    "        \n",
    "    if status:    \n",
    "        i= i.replace('\\n','').replace('\\t',',')\n",
    "        if '' == i: continue\n",
    "        datalist.append([i for i in i.split(',')])\n",
    "        \n",
    "datalist"
   ]
  },
  {
   "cell_type": "code",
   "execution_count": 14,
   "id": "9883a46e-aa92-43bd-948a-d88f891af9da",
   "metadata": {},
   "outputs": [],
   "source": [
    "import pandas as pd"
   ]
  },
  {
   "cell_type": "code",
   "execution_count": 15,
   "id": "7c69c47b-399f-455c-a7da-9730840124a6",
   "metadata": {},
   "outputs": [],
   "source": [
    "columns_names = datalist[0]"
   ]
  },
  {
   "cell_type": "code",
   "execution_count": 16,
   "id": "adb1990a-f2b3-4da7-83d6-9589399a815c",
   "metadata": {},
   "outputs": [],
   "source": [
    "columns_names.insert(0, 'index')"
   ]
  },
  {
   "cell_type": "code",
   "execution_count": 17,
   "id": "4924b8b4-6cc2-424e-9ec0-40a31ee99c56",
   "metadata": {},
   "outputs": [
    {
     "data": {
      "text/plain": [
       "['index', 'client', 'premium', 'age', 'success', 'platform', 'time']"
      ]
     },
     "execution_count": 17,
     "metadata": {},
     "output_type": "execute_result"
    }
   ],
   "source": [
    "columns_names"
   ]
  },
  {
   "cell_type": "code",
   "execution_count": 18,
   "id": "4be0353a-f7e1-4e38-bd91-198f875089d6",
   "metadata": {},
   "outputs": [],
   "source": [
    "df = pd.DataFrame(data = datalist[1:], columns = columns_names)"
   ]
  },
  {
   "cell_type": "code",
   "execution_count": 19,
   "id": "da592a6f-6505-48b7-9deb-9bb3acc92f0f",
   "metadata": {},
   "outputs": [
    {
     "data": {
      "text/html": [
       "<div>\n",
       "<style scoped>\n",
       "    .dataframe tbody tr th:only-of-type {\n",
       "        vertical-align: middle;\n",
       "    }\n",
       "\n",
       "    .dataframe tbody tr th {\n",
       "        vertical-align: top;\n",
       "    }\n",
       "\n",
       "    .dataframe thead th {\n",
       "        text-align: right;\n",
       "    }\n",
       "</style>\n",
       "<table border=\"1\" class=\"dataframe\">\n",
       "  <thead>\n",
       "    <tr style=\"text-align: right;\">\n",
       "      <th></th>\n",
       "      <th>index</th>\n",
       "      <th>client</th>\n",
       "      <th>premium</th>\n",
       "      <th>age</th>\n",
       "      <th>success</th>\n",
       "      <th>platform</th>\n",
       "      <th>time</th>\n",
       "    </tr>\n",
       "  </thead>\n",
       "  <tbody>\n",
       "    <tr>\n",
       "      <th>0</th>\n",
       "      <td>0</td>\n",
       "      <td>46346</td>\n",
       "      <td>False</td>\n",
       "      <td>58</td>\n",
       "      <td>True</td>\n",
       "      <td>phone</td>\n",
       "      <td>1585452839</td>\n",
       "    </tr>\n",
       "    <tr>\n",
       "      <th>1</th>\n",
       "      <td>1</td>\n",
       "      <td>4391</td>\n",
       "      <td>False</td>\n",
       "      <td>55</td>\n",
       "      <td>False</td>\n",
       "      <td>phone</td>\n",
       "      <td>1585409861</td>\n",
       "    </tr>\n",
       "    <tr>\n",
       "      <th>2</th>\n",
       "      <td>2</td>\n",
       "      <td>27372</td>\n",
       "      <td>False</td>\n",
       "      <td>64</td>\n",
       "      <td>False</td>\n",
       "      <td>phone</td>\n",
       "      <td>1585446018</td>\n",
       "    </tr>\n",
       "    <tr>\n",
       "      <th>3</th>\n",
       "      <td>3</td>\n",
       "      <td>11989</td>\n",
       "      <td>False</td>\n",
       "      <td>44</td>\n",
       "      <td>True</td>\n",
       "      <td>computer</td>\n",
       "      <td>1585403698</td>\n",
       "    </tr>\n",
       "    <tr>\n",
       "      <th>4</th>\n",
       "      <td>4</td>\n",
       "      <td>60664</td>\n",
       "      <td>False</td>\n",
       "      <td>49</td>\n",
       "      <td>True</td>\n",
       "      <td>phone</td>\n",
       "      <td>1585406918</td>\n",
       "    </tr>\n",
       "    <tr>\n",
       "      <th>5</th>\n",
       "      <td>3434</td>\n",
       "      <td>19411</td>\n",
       "      <td>False</td>\n",
       "      <td>29</td>\n",
       "      <td>True</td>\n",
       "      <td>phone</td>\n",
       "      <td>1585400902</td>\n",
       "    </tr>\n",
       "    <tr>\n",
       "      <th>6</th>\n",
       "      <td>3435</td>\n",
       "      <td>61579</td>\n",
       "      <td>False</td>\n",
       "      <td>50</td>\n",
       "      <td>True</td>\n",
       "      <td>phone</td>\n",
       "      <td>1585436158</td>\n",
       "    </tr>\n",
       "    <tr>\n",
       "      <th>7</th>\n",
       "      <td>3436</td>\n",
       "      <td>61221</td>\n",
       "      <td>True</td>\n",
       "      <td>64</td>\n",
       "      <td>True</td>\n",
       "      <td>phone</td>\n",
       "      <td>1585440218</td>\n",
       "    </tr>\n",
       "    <tr>\n",
       "      <th>8</th>\n",
       "      <td>3437</td>\n",
       "      <td>29863</td>\n",
       "      <td>False</td>\n",
       "      <td>46</td>\n",
       "      <td>True</td>\n",
       "      <td>tablet</td>\n",
       "      <td>1585443437</td>\n",
       "    </tr>\n",
       "    <tr>\n",
       "      <th>9</th>\n",
       "      <td>3438</td>\n",
       "      <td>78499</td>\n",
       "      <td>False</td>\n",
       "      <td>36</td>\n",
       "      <td>False</td>\n",
       "      <td>phone</td>\n",
       "      <td>1585425483</td>\n",
       "    </tr>\n",
       "  </tbody>\n",
       "</table>\n",
       "</div>"
      ],
      "text/plain": [
       "  index client premium age success  platform        time\n",
       "0     0  46346   False  58    True     phone  1585452839\n",
       "1     1   4391   False  55   False     phone  1585409861\n",
       "2     2  27372   False  64   False     phone  1585446018\n",
       "3     3  11989   False  44    True  computer  1585403698\n",
       "4     4  60664   False  49    True     phone  1585406918\n",
       "5  3434  19411   False  29    True     phone  1585400902\n",
       "6  3435  61579   False  50    True     phone  1585436158\n",
       "7  3436  61221    True  64    True     phone  1585440218\n",
       "8  3437  29863   False  46    True    tablet  1585443437\n",
       "9  3438  78499   False  36   False     phone  1585425483"
      ]
     },
     "execution_count": 19,
     "metadata": {},
     "output_type": "execute_result"
    }
   ],
   "source": [
    "df"
   ]
  },
  {
   "cell_type": "code",
   "execution_count": 20,
   "id": "d885286b-7478-4f23-8b04-d66840c9f44c",
   "metadata": {},
   "outputs": [
    {
     "data": {
      "text/plain": [
       "index       object\n",
       "client      object\n",
       "premium     object\n",
       "age         object\n",
       "success     object\n",
       "platform    object\n",
       "time        object\n",
       "dtype: object"
      ]
     },
     "execution_count": 20,
     "metadata": {},
     "output_type": "execute_result"
    }
   ],
   "source": [
    "df.dtypes"
   ]
  },
  {
   "cell_type": "code",
   "execution_count": 30,
   "id": "f0800ccf-8d31-4467-8630-a2b586b8a334",
   "metadata": {},
   "outputs": [],
   "source": [
    "df = df.astype({'age':int, 'success':bool, 'platform':str, 'time':int })"
   ]
  },
  {
   "cell_type": "code",
   "execution_count": 32,
   "id": "327677ee-2790-4f4a-9b08-4b90e8cae53d",
   "metadata": {},
   "outputs": [
    {
     "data": {
      "text/plain": [
       "index       object\n",
       "client      object\n",
       "premium     object\n",
       "age          int32\n",
       "success       bool\n",
       "platform    object\n",
       "time         int32\n",
       "dtype: object"
      ]
     },
     "execution_count": 32,
     "metadata": {},
     "output_type": "execute_result"
    }
   ],
   "source": [
    "df.dtypes"
   ]
  },
  {
   "cell_type": "code",
   "execution_count": 46,
   "id": "fafa5189-9ebc-4e65-9c7e-b300dffce280",
   "metadata": {},
   "outputs": [],
   "source": [
    "df['time'] = pd.to_datetime(df[\"time\"], unit='s')"
   ]
  },
  {
   "cell_type": "code",
   "execution_count": 63,
   "id": "e591cff5-bccb-4a10-911b-008b3f5d8115",
   "metadata": {},
   "outputs": [
    {
     "data": {
      "text/plain": [
       "0    29\n",
       "1    28\n",
       "2    29\n",
       "3    28\n",
       "4    28\n",
       "5    28\n",
       "6    28\n",
       "7    29\n",
       "8    29\n",
       "9    28\n",
       "Name: time, dtype: int32"
      ]
     },
     "execution_count": 63,
     "metadata": {},
     "output_type": "execute_result"
    }
   ],
   "source": [
    "df.time.dt.day"
   ]
  },
  {
   "cell_type": "code",
   "execution_count": 74,
   "id": "4c155202-029b-473b-ba91-328d2660f5f7",
   "metadata": {},
   "outputs": [],
   "source": [
    "user_df = df[['client', 'success', 'time']]"
   ]
  },
  {
   "cell_type": "code",
   "execution_count": 75,
   "id": "2cb39b3b-1114-449c-8e41-b7f7833b5e8a",
   "metadata": {},
   "outputs": [
    {
     "data": {
      "text/html": [
       "<div>\n",
       "<style scoped>\n",
       "    .dataframe tbody tr th:only-of-type {\n",
       "        vertical-align: middle;\n",
       "    }\n",
       "\n",
       "    .dataframe tbody tr th {\n",
       "        vertical-align: top;\n",
       "    }\n",
       "\n",
       "    .dataframe thead th {\n",
       "        text-align: right;\n",
       "    }\n",
       "</style>\n",
       "<table border=\"1\" class=\"dataframe\">\n",
       "  <thead>\n",
       "    <tr style=\"text-align: right;\">\n",
       "      <th></th>\n",
       "      <th>client</th>\n",
       "      <th>success</th>\n",
       "      <th>time</th>\n",
       "    </tr>\n",
       "  </thead>\n",
       "  <tbody>\n",
       "    <tr>\n",
       "      <th>0</th>\n",
       "      <td>46346</td>\n",
       "      <td>True</td>\n",
       "      <td>2020-03-29 03:33:59</td>\n",
       "    </tr>\n",
       "    <tr>\n",
       "      <th>1</th>\n",
       "      <td>4391</td>\n",
       "      <td>True</td>\n",
       "      <td>2020-03-28 15:37:41</td>\n",
       "    </tr>\n",
       "    <tr>\n",
       "      <th>2</th>\n",
       "      <td>27372</td>\n",
       "      <td>True</td>\n",
       "      <td>2020-03-29 01:40:18</td>\n",
       "    </tr>\n",
       "    <tr>\n",
       "      <th>3</th>\n",
       "      <td>11989</td>\n",
       "      <td>True</td>\n",
       "      <td>2020-03-28 13:54:58</td>\n",
       "    </tr>\n",
       "    <tr>\n",
       "      <th>4</th>\n",
       "      <td>60664</td>\n",
       "      <td>True</td>\n",
       "      <td>2020-03-28 14:48:38</td>\n",
       "    </tr>\n",
       "    <tr>\n",
       "      <th>5</th>\n",
       "      <td>19411</td>\n",
       "      <td>True</td>\n",
       "      <td>2020-03-28 13:08:22</td>\n",
       "    </tr>\n",
       "    <tr>\n",
       "      <th>6</th>\n",
       "      <td>61579</td>\n",
       "      <td>True</td>\n",
       "      <td>2020-03-28 22:55:58</td>\n",
       "    </tr>\n",
       "    <tr>\n",
       "      <th>7</th>\n",
       "      <td>61221</td>\n",
       "      <td>True</td>\n",
       "      <td>2020-03-29 00:03:38</td>\n",
       "    </tr>\n",
       "    <tr>\n",
       "      <th>8</th>\n",
       "      <td>29863</td>\n",
       "      <td>True</td>\n",
       "      <td>2020-03-29 00:57:17</td>\n",
       "    </tr>\n",
       "    <tr>\n",
       "      <th>9</th>\n",
       "      <td>78499</td>\n",
       "      <td>True</td>\n",
       "      <td>2020-03-28 19:58:03</td>\n",
       "    </tr>\n",
       "  </tbody>\n",
       "</table>\n",
       "</div>"
      ],
      "text/plain": [
       "  client  success                time\n",
       "0  46346     True 2020-03-29 03:33:59\n",
       "1   4391     True 2020-03-28 15:37:41\n",
       "2  27372     True 2020-03-29 01:40:18\n",
       "3  11989     True 2020-03-28 13:54:58\n",
       "4  60664     True 2020-03-28 14:48:38\n",
       "5  19411     True 2020-03-28 13:08:22\n",
       "6  61579     True 2020-03-28 22:55:58\n",
       "7  61221     True 2020-03-29 00:03:38\n",
       "8  29863     True 2020-03-29 00:57:17\n",
       "9  78499     True 2020-03-28 19:58:03"
      ]
     },
     "execution_count": 75,
     "metadata": {},
     "output_type": "execute_result"
    }
   ],
   "source": [
    "user_df"
   ]
  },
  {
   "cell_type": "code",
   "execution_count": 76,
   "id": "3af3617e-51be-49e3-ac88-65764548a141",
   "metadata": {},
   "outputs": [
    {
     "data": {
      "text/html": [
       "<div>\n",
       "<style scoped>\n",
       "    .dataframe tbody tr th:only-of-type {\n",
       "        vertical-align: middle;\n",
       "    }\n",
       "\n",
       "    .dataframe tbody tr th {\n",
       "        vertical-align: top;\n",
       "    }\n",
       "\n",
       "    .dataframe thead th {\n",
       "        text-align: right;\n",
       "    }\n",
       "</style>\n",
       "<table border=\"1\" class=\"dataframe\">\n",
       "  <thead>\n",
       "    <tr style=\"text-align: right;\">\n",
       "      <th></th>\n",
       "      <th>client</th>\n",
       "      <th>success</th>\n",
       "    </tr>\n",
       "  </thead>\n",
       "  <tbody>\n",
       "    <tr>\n",
       "      <th>0</th>\n",
       "      <td>11989</td>\n",
       "      <td>1</td>\n",
       "    </tr>\n",
       "    <tr>\n",
       "      <th>1</th>\n",
       "      <td>19411</td>\n",
       "      <td>1</td>\n",
       "    </tr>\n",
       "    <tr>\n",
       "      <th>2</th>\n",
       "      <td>27372</td>\n",
       "      <td>1</td>\n",
       "    </tr>\n",
       "    <tr>\n",
       "      <th>3</th>\n",
       "      <td>29863</td>\n",
       "      <td>1</td>\n",
       "    </tr>\n",
       "    <tr>\n",
       "      <th>4</th>\n",
       "      <td>4391</td>\n",
       "      <td>1</td>\n",
       "    </tr>\n",
       "    <tr>\n",
       "      <th>5</th>\n",
       "      <td>46346</td>\n",
       "      <td>1</td>\n",
       "    </tr>\n",
       "    <tr>\n",
       "      <th>6</th>\n",
       "      <td>60664</td>\n",
       "      <td>1</td>\n",
       "    </tr>\n",
       "    <tr>\n",
       "      <th>7</th>\n",
       "      <td>61221</td>\n",
       "      <td>1</td>\n",
       "    </tr>\n",
       "    <tr>\n",
       "      <th>8</th>\n",
       "      <td>61579</td>\n",
       "      <td>1</td>\n",
       "    </tr>\n",
       "    <tr>\n",
       "      <th>9</th>\n",
       "      <td>78499</td>\n",
       "      <td>1</td>\n",
       "    </tr>\n",
       "  </tbody>\n",
       "</table>\n",
       "</div>"
      ],
      "text/plain": [
       "  client  success\n",
       "0  11989        1\n",
       "1  19411        1\n",
       "2  27372        1\n",
       "3  29863        1\n",
       "4   4391        1\n",
       "5  46346        1\n",
       "6  60664        1\n",
       "7  61221        1\n",
       "8  61579        1\n",
       "9  78499        1"
      ]
     },
     "execution_count": 76,
     "metadata": {},
     "output_type": "execute_result"
    }
   ],
   "source": [
    "user_df.groupby('client', as_index=False)\\\n",
    "    .agg({'success':'sum'})"
   ]
  },
  {
   "cell_type": "code",
   "execution_count": null,
   "id": "cbdb1b3f-1d0f-473c-b0c8-60fe2c10b27f",
   "metadata": {},
   "outputs": [],
   "source": [
    "# ~ тилда \n",
    "# 2 пути - обсалютная и корневая\n",
    "# os.getcwd()"
   ]
  },
  {
   "cell_type": "code",
   "execution_count": null,
   "id": "aabe45c3-c582-422d-bb5d-469b396b9096",
   "metadata": {},
   "outputs": [],
   "source": []
  }
 ],
 "metadata": {
  "kernelspec": {
   "display_name": "Python 3 (ipykernel)",
   "language": "python",
   "name": "python3"
  },
  "language_info": {
   "codemirror_mode": {
    "name": "ipython",
    "version": 3
   },
   "file_extension": ".py",
   "mimetype": "text/x-python",
   "name": "python",
   "nbconvert_exporter": "python",
   "pygments_lexer": "ipython3",
   "version": "3.11.7"
  },
  "widgets": {
   "application/vnd.jupyter.widget-state+json": {
    "state": {},
    "version_major": 2,
    "version_minor": 0
   }
  }
 },
 "nbformat": 4,
 "nbformat_minor": 5
}
