{
 "cells": [
  {
   "cell_type": "code",
   "execution_count": 6,
   "id": "3b6f4419-0bd1-413c-85f4-0bd46c243432",
   "metadata": {},
   "outputs": [],
   "source": [
    "import pandas as pd\n",
    "import numpy as np\n",
    "%matplotlib inline\n",
    "import matplotlib.pyplot as plt\n",
    "import seaborn as sns\n",
    "import plotly.express as px"
   ]
  },
  {
   "cell_type": "code",
   "execution_count": 7,
   "id": "5df4f656-6147-4ae7-8875-d67c39a10e1a",
   "metadata": {},
   "outputs": [],
   "source": [
    "ads_data = pd.read_csv('./ads_data.csv', parse_dates=['date', 'time'])"
   ]
  },
  {
   "cell_type": "code",
   "execution_count": 8,
   "id": "d59abd5e-922a-412f-8f1a-037f37b8f69f",
   "metadata": {},
   "outputs": [
    {
     "data": {
      "text/html": [
       "<div>\n",
       "<style scoped>\n",
       "    .dataframe tbody tr th:only-of-type {\n",
       "        vertical-align: middle;\n",
       "    }\n",
       "\n",
       "    .dataframe tbody tr th {\n",
       "        vertical-align: top;\n",
       "    }\n",
       "\n",
       "    .dataframe thead th {\n",
       "        text-align: right;\n",
       "    }\n",
       "</style>\n",
       "<table border=\"1\" class=\"dataframe\">\n",
       "  <thead>\n",
       "    <tr style=\"text-align: right;\">\n",
       "      <th></th>\n",
       "      <th>date</th>\n",
       "      <th>time</th>\n",
       "      <th>event</th>\n",
       "      <th>platform</th>\n",
       "      <th>ad_id</th>\n",
       "      <th>client_union_id</th>\n",
       "      <th>campaign_union_id</th>\n",
       "      <th>ad_cost_type</th>\n",
       "      <th>ad_cost</th>\n",
       "      <th>has_video</th>\n",
       "      <th>target_audience_count</th>\n",
       "    </tr>\n",
       "  </thead>\n",
       "  <tbody>\n",
       "    <tr>\n",
       "      <th>0</th>\n",
       "      <td>2019-04-01</td>\n",
       "      <td>2019-04-01 00:00:48</td>\n",
       "      <td>view</td>\n",
       "      <td>android</td>\n",
       "      <td>45061</td>\n",
       "      <td>34734</td>\n",
       "      <td>45061</td>\n",
       "      <td>CPM</td>\n",
       "      <td>200.6</td>\n",
       "      <td>0</td>\n",
       "      <td>1955269</td>\n",
       "    </tr>\n",
       "    <tr>\n",
       "      <th>1</th>\n",
       "      <td>2019-04-01</td>\n",
       "      <td>2019-04-01 00:00:48</td>\n",
       "      <td>view</td>\n",
       "      <td>web</td>\n",
       "      <td>121288</td>\n",
       "      <td>121288</td>\n",
       "      <td>121288</td>\n",
       "      <td>CPM</td>\n",
       "      <td>187.4</td>\n",
       "      <td>0</td>\n",
       "      <td>232011</td>\n",
       "    </tr>\n",
       "    <tr>\n",
       "      <th>2</th>\n",
       "      <td>2019-04-01</td>\n",
       "      <td>2019-04-01 00:01:03</td>\n",
       "      <td>view</td>\n",
       "      <td>android</td>\n",
       "      <td>102737</td>\n",
       "      <td>102535</td>\n",
       "      <td>102564</td>\n",
       "      <td>CPC</td>\n",
       "      <td>60.7</td>\n",
       "      <td>0</td>\n",
       "      <td>4410</td>\n",
       "    </tr>\n",
       "    <tr>\n",
       "      <th>3</th>\n",
       "      <td>2019-04-01</td>\n",
       "      <td>2019-04-01 00:01:03</td>\n",
       "      <td>view</td>\n",
       "      <td>android</td>\n",
       "      <td>107564</td>\n",
       "      <td>106914</td>\n",
       "      <td>107564</td>\n",
       "      <td>CPM</td>\n",
       "      <td>217.3</td>\n",
       "      <td>0</td>\n",
       "      <td>62711</td>\n",
       "    </tr>\n",
       "    <tr>\n",
       "      <th>4</th>\n",
       "      <td>2019-04-01</td>\n",
       "      <td>2019-04-01 00:01:09</td>\n",
       "      <td>view</td>\n",
       "      <td>android</td>\n",
       "      <td>4922</td>\n",
       "      <td>37</td>\n",
       "      <td>4400</td>\n",
       "      <td>CPC</td>\n",
       "      <td>60.1</td>\n",
       "      <td>0</td>\n",
       "      <td>1183501</td>\n",
       "    </tr>\n",
       "  </tbody>\n",
       "</table>\n",
       "</div>"
      ],
      "text/plain": [
       "        date                time event platform   ad_id  client_union_id  \\\n",
       "0 2019-04-01 2019-04-01 00:00:48  view  android   45061            34734   \n",
       "1 2019-04-01 2019-04-01 00:00:48  view      web  121288           121288   \n",
       "2 2019-04-01 2019-04-01 00:01:03  view  android  102737           102535   \n",
       "3 2019-04-01 2019-04-01 00:01:03  view  android  107564           106914   \n",
       "4 2019-04-01 2019-04-01 00:01:09  view  android    4922               37   \n",
       "\n",
       "   campaign_union_id ad_cost_type  ad_cost  has_video  target_audience_count  \n",
       "0              45061          CPM    200.6          0                1955269  \n",
       "1             121288          CPM    187.4          0                 232011  \n",
       "2             102564          CPC     60.7          0                   4410  \n",
       "3             107564          CPM    217.3          0                  62711  \n",
       "4               4400          CPC     60.1          0                1183501  "
      ]
     },
     "execution_count": 8,
     "metadata": {},
     "output_type": "execute_result"
    }
   ],
   "source": [
    "ads_data.head()"
   ]
  },
  {
   "cell_type": "code",
   "execution_count": 9,
   "id": "264e95a6-6298-4f53-a06d-39c1fb1a7794",
   "metadata": {},
   "outputs": [],
   "source": [
    "ads_clients_data = pd.read_csv('./ads_clients_data.csv' , parse_dates=['date', 'create_date'])"
   ]
  },
  {
   "cell_type": "code",
   "execution_count": 10,
   "id": "d21a95c8-3ad4-4edf-9d22-a38e6e92b14a",
   "metadata": {},
   "outputs": [
    {
     "data": {
      "text/html": [
       "<div>\n",
       "<style scoped>\n",
       "    .dataframe tbody tr th:only-of-type {\n",
       "        vertical-align: middle;\n",
       "    }\n",
       "\n",
       "    .dataframe tbody tr th {\n",
       "        vertical-align: top;\n",
       "    }\n",
       "\n",
       "    .dataframe thead th {\n",
       "        text-align: right;\n",
       "    }\n",
       "</style>\n",
       "<table border=\"1\" class=\"dataframe\">\n",
       "  <thead>\n",
       "    <tr style=\"text-align: right;\">\n",
       "      <th></th>\n",
       "      <th>date</th>\n",
       "      <th>client_union_id</th>\n",
       "      <th>community_id</th>\n",
       "      <th>create_date</th>\n",
       "    </tr>\n",
       "  </thead>\n",
       "  <tbody>\n",
       "    <tr>\n",
       "      <th>0</th>\n",
       "      <td>2020-05-07</td>\n",
       "      <td>1</td>\n",
       "      <td>-130371893</td>\n",
       "      <td>2018-12-24</td>\n",
       "    </tr>\n",
       "    <tr>\n",
       "      <th>1</th>\n",
       "      <td>2020-05-07</td>\n",
       "      <td>2</td>\n",
       "      <td>-130304626</td>\n",
       "      <td>2019-02-10</td>\n",
       "    </tr>\n",
       "    <tr>\n",
       "      <th>2</th>\n",
       "      <td>2020-05-07</td>\n",
       "      <td>3</td>\n",
       "      <td>-130462599</td>\n",
       "      <td>2019-01-25</td>\n",
       "    </tr>\n",
       "    <tr>\n",
       "      <th>3</th>\n",
       "      <td>2020-05-07</td>\n",
       "      <td>4</td>\n",
       "      <td>-130574300</td>\n",
       "      <td>2018-12-09</td>\n",
       "    </tr>\n",
       "    <tr>\n",
       "      <th>4</th>\n",
       "      <td>2020-05-07</td>\n",
       "      <td>5</td>\n",
       "      <td>-130292358</td>\n",
       "      <td>2019-01-08</td>\n",
       "    </tr>\n",
       "  </tbody>\n",
       "</table>\n",
       "</div>"
      ],
      "text/plain": [
       "        date  client_union_id  community_id create_date\n",
       "0 2020-05-07                1    -130371893  2018-12-24\n",
       "1 2020-05-07                2    -130304626  2019-02-10\n",
       "2 2020-05-07                3    -130462599  2019-01-25\n",
       "3 2020-05-07                4    -130574300  2018-12-09\n",
       "4 2020-05-07                5    -130292358  2019-01-08"
      ]
     },
     "execution_count": 10,
     "metadata": {},
     "output_type": "execute_result"
    }
   ],
   "source": [
    "ads_clients_data.head()"
   ]
  },
  {
   "cell_type": "code",
   "execution_count": 11,
   "id": "c546a9c6-53fb-41b3-810c-da401e2c93cb",
   "metadata": {},
   "outputs": [],
   "source": [
    "# 1.\tРазберемся с распределением количества показов и кликов. \n",
    "# Посчитайте среднее количество показов и среднее количество кликов на объявления за весь период (округлите до целых)."
   ]
  },
  {
   "cell_type": "code",
   "execution_count": 12,
   "id": "4c30ab8b-a68e-460a-833d-c639f7420824",
   "metadata": {},
   "outputs": [
    {
     "data": {
      "text/plain": [
       "date                     datetime64[ns]\n",
       "time                     datetime64[ns]\n",
       "event                            object\n",
       "platform                         object\n",
       "ad_id                             int64\n",
       "client_union_id                   int64\n",
       "campaign_union_id                 int64\n",
       "ad_cost_type                     object\n",
       "ad_cost                         float64\n",
       "has_video                         int64\n",
       "target_audience_count             int64\n",
       "dtype: object"
      ]
     },
     "execution_count": 12,
     "metadata": {},
     "output_type": "execute_result"
    }
   ],
   "source": [
    "ads_data.dtypes"
   ]
  },
  {
   "cell_type": "code",
   "execution_count": 13,
   "id": "6ce65350-ee60-4f13-9e23-ace6397de8ab",
   "metadata": {},
   "outputs": [],
   "source": [
    "event_count = ads_data.groupby(['ad_id','event'], as_index=False).agg({'date':'count'})\\\n",
    "    .rename(columns = {'date':'count'})\\\n",
    "    .pivot(index='ad_id', columns='event', values='count').reset_index()\\\n",
    "    .fillna(0)"
   ]
  },
  {
   "cell_type": "code",
   "execution_count": 14,
   "id": "f0b6fc0e-5c51-426f-8310-1abd4e874d80",
   "metadata": {},
   "outputs": [
    {
     "data": {
      "text/html": [
       "<div>\n",
       "<style scoped>\n",
       "    .dataframe tbody tr th:only-of-type {\n",
       "        vertical-align: middle;\n",
       "    }\n",
       "\n",
       "    .dataframe tbody tr th {\n",
       "        vertical-align: top;\n",
       "    }\n",
       "\n",
       "    .dataframe thead th {\n",
       "        text-align: right;\n",
       "    }\n",
       "</style>\n",
       "<table border=\"1\" class=\"dataframe\">\n",
       "  <thead>\n",
       "    <tr style=\"text-align: right;\">\n",
       "      <th>event</th>\n",
       "      <th>ad_id</th>\n",
       "      <th>click</th>\n",
       "      <th>view</th>\n",
       "    </tr>\n",
       "  </thead>\n",
       "  <tbody>\n",
       "    <tr>\n",
       "      <th>0</th>\n",
       "      <td>2</td>\n",
       "      <td>1.0</td>\n",
       "      <td>101.0</td>\n",
       "    </tr>\n",
       "    <tr>\n",
       "      <th>1</th>\n",
       "      <td>3</td>\n",
       "      <td>3.0</td>\n",
       "      <td>184.0</td>\n",
       "    </tr>\n",
       "    <tr>\n",
       "      <th>2</th>\n",
       "      <td>1902</td>\n",
       "      <td>1.0</td>\n",
       "      <td>41.0</td>\n",
       "    </tr>\n",
       "    <tr>\n",
       "      <th>3</th>\n",
       "      <td>2064</td>\n",
       "      <td>0.0</td>\n",
       "      <td>35.0</td>\n",
       "    </tr>\n",
       "    <tr>\n",
       "      <th>4</th>\n",
       "      <td>2132</td>\n",
       "      <td>1.0</td>\n",
       "      <td>58.0</td>\n",
       "    </tr>\n",
       "    <tr>\n",
       "      <th>...</th>\n",
       "      <td>...</td>\n",
       "      <td>...</td>\n",
       "      <td>...</td>\n",
       "    </tr>\n",
       "    <tr>\n",
       "      <th>960</th>\n",
       "      <td>122004</td>\n",
       "      <td>4.0</td>\n",
       "      <td>100.0</td>\n",
       "    </tr>\n",
       "    <tr>\n",
       "      <th>961</th>\n",
       "      <td>122013</td>\n",
       "      <td>0.0</td>\n",
       "      <td>156.0</td>\n",
       "    </tr>\n",
       "    <tr>\n",
       "      <th>962</th>\n",
       "      <td>122023</td>\n",
       "      <td>0.0</td>\n",
       "      <td>68.0</td>\n",
       "    </tr>\n",
       "    <tr>\n",
       "      <th>963</th>\n",
       "      <td>122031</td>\n",
       "      <td>1.0</td>\n",
       "      <td>138.0</td>\n",
       "    </tr>\n",
       "    <tr>\n",
       "      <th>964</th>\n",
       "      <td>122078</td>\n",
       "      <td>0.0</td>\n",
       "      <td>42.0</td>\n",
       "    </tr>\n",
       "  </tbody>\n",
       "</table>\n",
       "<p>965 rows × 3 columns</p>\n",
       "</div>"
      ],
      "text/plain": [
       "event   ad_id  click   view\n",
       "0           2    1.0  101.0\n",
       "1           3    3.0  184.0\n",
       "2        1902    1.0   41.0\n",
       "3        2064    0.0   35.0\n",
       "4        2132    1.0   58.0\n",
       "..        ...    ...    ...\n",
       "960    122004    4.0  100.0\n",
       "961    122013    0.0  156.0\n",
       "962    122023    0.0   68.0\n",
       "963    122031    1.0  138.0\n",
       "964    122078    0.0   42.0\n",
       "\n",
       "[965 rows x 3 columns]"
      ]
     },
     "execution_count": 14,
     "metadata": {},
     "output_type": "execute_result"
    }
   ],
   "source": [
    "event_count"
   ]
  },
  {
   "cell_type": "code",
   "execution_count": 15,
   "id": "67f3eb0c-90b6-46ae-b13f-528fca98f43e",
   "metadata": {},
   "outputs": [
    {
     "data": {
      "text/plain": [
       "event\n",
       "ad_id    57971.024870\n",
       "click      113.137824\n",
       "view       923.131606\n",
       "dtype: float64"
      ]
     },
     "execution_count": 15,
     "metadata": {},
     "output_type": "execute_result"
    }
   ],
   "source": [
    "event_count.mean()"
   ]
  },
  {
   "cell_type": "code",
   "execution_count": 16,
   "id": "26d06116-07f2-4f64-9a82-efac5f917aa8",
   "metadata": {},
   "outputs": [],
   "source": [
    "ads_data_view = ads_data.query(\"event == 'view'\").ad_id.value_counts()\n",
    "\n"
   ]
  },
  {
   "cell_type": "code",
   "execution_count": 17,
   "id": "b273ad45-26c8-4576-a113-029bf9cbb09c",
   "metadata": {},
   "outputs": [],
   "source": [
    "ads_data_view_log = np.log(ads_data_view)"
   ]
  },
  {
   "cell_type": "code",
   "execution_count": 18,
   "id": "6f29f0c8-fa40-45f4-9b11-21b745e65040",
   "metadata": {},
   "outputs": [],
   "source": [
    "# evet_count_log = np.log(event_count)"
   ]
  },
  {
   "cell_type": "code",
   "execution_count": 19,
   "id": "c06b9aa4-e418-426a-80a7-f7a4996eb580",
   "metadata": {},
   "outputs": [
    {
     "name": "stderr",
     "output_type": "stream",
     "text": [
      "C:\\Users\\Omar\\AppData\\Local\\Temp\\ipykernel_6600\\787145400.py:1: UserWarning: \n",
      "\n",
      "`distplot` is a deprecated function and will be removed in seaborn v0.14.0.\n",
      "\n",
      "Please adapt your code to use either `displot` (a figure-level function with\n",
      "similar flexibility) or `histplot` (an axes-level function for histograms).\n",
      "\n",
      "For a guide to updating your code to use the new functions, please see\n",
      "https://gist.github.com/mwaskom/de44147ed2974457ad6372750bbe5751\n",
      "\n",
      "  sns.distplot(ads_data_view_log)\n",
      "C:\\Users\\Omar\\anaconda3\\Lib\\site-packages\\seaborn\\_oldcore.py:1119: FutureWarning: use_inf_as_na option is deprecated and will be removed in a future version. Convert inf values to NaN before operating instead.\n",
      "  with pd.option_context('mode.use_inf_as_na', True):\n"
     ]
    },
    {
     "data": {
      "text/plain": [
       "<Axes: xlabel='count', ylabel='Density'>"
      ]
     },
     "execution_count": 19,
     "metadata": {},
     "output_type": "execute_result"
    },
    {
     "data": {
      "image/png": "[encoded data removed]",
      "text/plain": [
       "<Figure size 640x480 with 1 Axes>"
      ]
     },
     "metadata": {},
     "output_type": "display_data"
    }
   ],
   "source": [
    "sns.distplot(ads_data_view_log)"
   ]
  },
  {
   "cell_type": "code",
   "execution_count": 20,
   "id": "021747cb-c9ce-476d-b772-5d7e37fdff4d",
   "metadata": {},
   "outputs": [],
   "source": [
    "# Теперь нужно найти среднее количество показов на 1 объявление (ad_id) по дням, не учитывая объявления, у которых не было показов (обычное среднее). \n",
    "# После этого посчитайте скользящее среднее по полученному результату с окном в 2 элемента.\n",
    "# Вопрос: Какое значение скользящего среднего получим за 6 апреля 2019 года? Округлите ответ до целого числа."
   ]
  },
  {
   "cell_type": "code",
   "execution_count": 94,
   "id": "b07d5b79-ba60-4203-8b75-5db446bb5246",
   "metadata": {},
   "outputs": [],
   "source": [
    "# ads_data_view = ads_data.query(\"event == 'view'\")\\\n",
    "    # .pivot_table(index='ad_id', columns='date', values='time', aggfunc='count')\n",
    "ads_data_view = ads_data.query(\"event == 'view'\")\\\n",
    "    .groupby(['date', 'ad_id'], as_index=False)\\\n",
    "    .agg({'time':'count'})\\\n",
    "    .pivot(index='ad_id', columns='date', values='time')"
   ]
  },
  {
   "cell_type": "code",
   "execution_count": 95,
   "id": "a146c8b0-23af-40e7-b737-bd01f8e3f8a4",
   "metadata": {},
   "outputs": [],
   "source": [
    "ads_data_view_mean = ads_data_view.mean()"
   ]
  },
  {
   "cell_type": "code",
   "execution_count": 96,
   "id": "9fa3d6d3-8c4a-4055-8e60-8e13e3f7c6f4",
   "metadata": {},
   "outputs": [
    {
     "data": {
      "text/html": [
       "<div>\n",
       "<style scoped>\n",
       "    .dataframe tbody tr th:only-of-type {\n",
       "        vertical-align: middle;\n",
       "    }\n",
       "\n",
       "    .dataframe tbody tr th {\n",
       "        vertical-align: top;\n",
       "    }\n",
       "\n",
       "    .dataframe thead th {\n",
       "        text-align: right;\n",
       "    }\n",
       "</style>\n",
       "<table border=\"1\" class=\"dataframe\">\n",
       "  <thead>\n",
       "    <tr style=\"text-align: right;\">\n",
       "      <th>date</th>\n",
       "      <th>2019-04-01</th>\n",
       "      <th>2019-04-02</th>\n",
       "      <th>2019-04-03</th>\n",
       "      <th>2019-04-04</th>\n",
       "      <th>2019-04-05</th>\n",
       "      <th>2019-04-06</th>\n",
       "    </tr>\n",
       "    <tr>\n",
       "      <th>ad_id</th>\n",
       "      <th></th>\n",
       "      <th></th>\n",
       "      <th></th>\n",
       "      <th></th>\n",
       "      <th></th>\n",
       "      <th></th>\n",
       "    </tr>\n",
       "  </thead>\n",
       "  <tbody>\n",
       "    <tr>\n",
       "      <th>2</th>\n",
       "      <td>83.0</td>\n",
       "      <td>18.0</td>\n",
       "      <td>NaN</td>\n",
       "      <td>NaN</td>\n",
       "      <td>NaN</td>\n",
       "      <td>NaN</td>\n",
       "    </tr>\n",
       "    <tr>\n",
       "      <th>3</th>\n",
       "      <td>158.0</td>\n",
       "      <td>26.0</td>\n",
       "      <td>NaN</td>\n",
       "      <td>NaN</td>\n",
       "      <td>NaN</td>\n",
       "      <td>NaN</td>\n",
       "    </tr>\n",
       "    <tr>\n",
       "      <th>1902</th>\n",
       "      <td>NaN</td>\n",
       "      <td>NaN</td>\n",
       "      <td>34.0</td>\n",
       "      <td>7.0</td>\n",
       "      <td>NaN</td>\n",
       "      <td>NaN</td>\n",
       "    </tr>\n",
       "    <tr>\n",
       "      <th>2064</th>\n",
       "      <td>NaN</td>\n",
       "      <td>28.0</td>\n",
       "      <td>7.0</td>\n",
       "      <td>NaN</td>\n",
       "      <td>NaN</td>\n",
       "      <td>NaN</td>\n",
       "    </tr>\n",
       "    <tr>\n",
       "      <th>2132</th>\n",
       "      <td>NaN</td>\n",
       "      <td>NaN</td>\n",
       "      <td>25.0</td>\n",
       "      <td>27.0</td>\n",
       "      <td>6.0</td>\n",
       "      <td>NaN</td>\n",
       "    </tr>\n",
       "    <tr>\n",
       "      <th>...</th>\n",
       "      <td>...</td>\n",
       "      <td>...</td>\n",
       "      <td>...</td>\n",
       "      <td>...</td>\n",
       "      <td>...</td>\n",
       "      <td>...</td>\n",
       "    </tr>\n",
       "    <tr>\n",
       "      <th>122004</th>\n",
       "      <td>85.0</td>\n",
       "      <td>15.0</td>\n",
       "      <td>NaN</td>\n",
       "      <td>NaN</td>\n",
       "      <td>NaN</td>\n",
       "      <td>NaN</td>\n",
       "    </tr>\n",
       "    <tr>\n",
       "      <th>122013</th>\n",
       "      <td>NaN</td>\n",
       "      <td>NaN</td>\n",
       "      <td>NaN</td>\n",
       "      <td>134.0</td>\n",
       "      <td>22.0</td>\n",
       "      <td>NaN</td>\n",
       "    </tr>\n",
       "    <tr>\n",
       "      <th>122023</th>\n",
       "      <td>NaN</td>\n",
       "      <td>NaN</td>\n",
       "      <td>NaN</td>\n",
       "      <td>53.0</td>\n",
       "      <td>15.0</td>\n",
       "      <td>NaN</td>\n",
       "    </tr>\n",
       "    <tr>\n",
       "      <th>122031</th>\n",
       "      <td>NaN</td>\n",
       "      <td>NaN</td>\n",
       "      <td>NaN</td>\n",
       "      <td>NaN</td>\n",
       "      <td>119.0</td>\n",
       "      <td>19.0</td>\n",
       "    </tr>\n",
       "    <tr>\n",
       "      <th>122078</th>\n",
       "      <td>NaN</td>\n",
       "      <td>NaN</td>\n",
       "      <td>36.0</td>\n",
       "      <td>6.0</td>\n",
       "      <td>NaN</td>\n",
       "      <td>NaN</td>\n",
       "    </tr>\n",
       "  </tbody>\n",
       "</table>\n",
       "<p>956 rows × 6 columns</p>\n",
       "</div>"
      ],
      "text/plain": [
       "date    2019-04-01  2019-04-02  2019-04-03  2019-04-04  2019-04-05  2019-04-06\n",
       "ad_id                                                                         \n",
       "2             83.0        18.0         NaN         NaN         NaN         NaN\n",
       "3            158.0        26.0         NaN         NaN         NaN         NaN\n",
       "1902           NaN         NaN        34.0         7.0         NaN         NaN\n",
       "2064           NaN        28.0         7.0         NaN         NaN         NaN\n",
       "2132           NaN         NaN        25.0        27.0         6.0         NaN\n",
       "...            ...         ...         ...         ...         ...         ...\n",
       "122004        85.0        15.0         NaN         NaN         NaN         NaN\n",
       "122013         NaN         NaN         NaN       134.0        22.0         NaN\n",
       "122023         NaN         NaN         NaN        53.0        15.0         NaN\n",
       "122031         NaN         NaN         NaN         NaN       119.0        19.0\n",
       "122078         NaN         NaN        36.0         6.0         NaN         NaN\n",
       "\n",
       "[956 rows x 6 columns]"
      ]
     },
     "execution_count": 96,
     "metadata": {},
     "output_type": "execute_result"
    }
   ],
   "source": [
    "ads_data_view"
   ]
  },
  {
   "cell_type": "code",
   "execution_count": 97,
   "id": "d631673e-8199-48eb-98a7-06173c9e207d",
   "metadata": {},
   "outputs": [
    {
     "data": {
      "text/plain": [
       "date\n",
       "2019-04-01    154.482270\n",
       "2019-04-02    137.786982\n",
       "2019-04-03    163.952778\n",
       "2019-04-04    675.901720\n",
       "2019-04-05    919.109677\n",
       "2019-04-06    277.122727\n",
       "dtype: float64"
      ]
     },
     "execution_count": 97,
     "metadata": {},
     "output_type": "execute_result"
    }
   ],
   "source": [
    "ads_data_view_mean"
   ]
  },
  {
   "cell_type": "code",
   "execution_count": 98,
   "id": "21750390-a46b-47b0-925c-72478b15f549",
   "metadata": {},
   "outputs": [],
   "source": [
    "ads_data_view_mean_rolling = ads_data_view_mean.rolling(window=2).mean().round(0)"
   ]
  },
  {
   "cell_type": "code",
   "execution_count": 99,
   "id": "c17a5586-1141-42a8-8512-0d84342f436e",
   "metadata": {},
   "outputs": [
    {
     "data": {
      "text/plain": [
       "date\n",
       "2019-04-01      NaN\n",
       "2019-04-02    146.0\n",
       "2019-04-03    151.0\n",
       "2019-04-04    420.0\n",
       "2019-04-05    798.0\n",
       "2019-04-06    598.0\n",
       "dtype: float64"
      ]
     },
     "execution_count": 99,
     "metadata": {},
     "output_type": "execute_result"
    }
   ],
   "source": [
    "ads_data_view_mean_rolling"
   ]
  },
  {
   "cell_type": "code",
   "execution_count": 100,
   "id": "a6fd1225-6bec-4660-b289-4977ed8ea312",
   "metadata": {},
   "outputs": [],
   "source": [
    "# 255"
   ]
  },
  {
   "cell_type": "code",
   "execution_count": 101,
   "id": "fa8da0ed-f49d-43a8-9571-af79bb98b7e4",
   "metadata": {},
   "outputs": [],
   "source": [
    "# Скользящее среднее часто используется для поиска аномалий в данных. \n",
    "# Давайте попробуем нанести на один график значения просто среднего количества показов по дням и \n",
    "# скользящего среднего на основе этих данных (которое мы получили в прошлом задании).\n",
    "\n",
    "# Посчитайте, в какой день наблюдается наибольшая разница по модулю между арифметическим средним и скользящим средним? \n",
    "# Дни, в которых скользящее среднее равно NaN, не учитываем. Запишите ответ в формате yyyy-MM-dd"
   ]
  },
  {
   "cell_type": "code",
   "execution_count": 107,
   "id": "48510fe3-69ed-47cf-a7c8-602b40cfec75",
   "metadata": {},
   "outputs": [
    {
     "data": {
      "text/plain": [
       "[Text(0.5, 0, 'Date'),\n",
       " Text(0, 0.5, 'View rate'),\n",
       " Text(0.5, 1.0, 'View rate by day\\n')]"
      ]
     },
     "execution_count": 107,
     "metadata": {},
     "output_type": "execute_result"
    },
    {
     "data": {
      "image/png": "[encoded data removed]",
      "text/plain": [
       "<Figure size 640x480 with 1 Axes>"
      ]
     },
     "metadata": {},
     "output_type": "display_data"
    }
   ],
   "source": [
    "ax = ads_data_view_mean.plot()\n",
    "ax.set(\n",
    "    xlabel =\"Date\", \n",
    "    ylabel = \"View rate\", \n",
    "    title ='View rate by day\\n')"
   ]
  },
  {
   "cell_type": "code",
   "execution_count": 104,
   "id": "c5b8143d-4be9-400e-8a15-dee43ed071d3",
   "metadata": {},
   "outputs": [
    {
     "name": "stderr",
     "output_type": "stream",
     "text": [
      "C:\\Users\\Omar\\anaconda3\\Lib\\site-packages\\seaborn\\_oldcore.py:1119: FutureWarning: use_inf_as_na option is deprecated and will be removed in a future version. Convert inf values to NaN before operating instead.\n",
      "  with pd.option_context('mode.use_inf_as_na', True):\n",
      "C:\\Users\\Omar\\anaconda3\\Lib\\site-packages\\seaborn\\_oldcore.py:1119: FutureWarning: use_inf_as_na option is deprecated and will be removed in a future version. Convert inf values to NaN before operating instead.\n",
      "  with pd.option_context('mode.use_inf_as_na', True):\n",
      "C:\\Users\\Omar\\anaconda3\\Lib\\site-packages\\seaborn\\_oldcore.py:1119: FutureWarning: use_inf_as_na option is deprecated and will be removed in a future version. Convert inf values to NaN before operating instead.\n",
      "  with pd.option_context('mode.use_inf_as_na', True):\n",
      "C:\\Users\\Omar\\anaconda3\\Lib\\site-packages\\seaborn\\_oldcore.py:1119: FutureWarning: use_inf_as_na option is deprecated and will be removed in a future version. Convert inf values to NaN before operating instead.\n",
      "  with pd.option_context('mode.use_inf_as_na', True):\n"
     ]
    },
    {
     "data": {
      "text/plain": [
       "<matplotlib.legend.Legend at 0x1e1a1c78850>"
      ]
     },
     "execution_count": 104,
     "metadata": {},
     "output_type": "execute_result"
    },
    {
     "data": {
      "image/png": "[encoded data removed]",
      "text/plain": [
       "<Figure size 640x480 with 1 Axes>"
      ]
     },
     "metadata": {},
     "output_type": "display_data"
    }
   ],
   "source": [
    "fig, ax = plt.subplots()\n",
    "sns.lineplot(data=ads_data_view_mean_rolling, ax=ax, label='rolling')\n",
    "sns.lineplot(data=ads_data_view_mean, ax=ax, label='usual')\n",
    "ax.tick_params(axis='x', rotation=45)\n",
    "plt.legend()"
   ]
  },
  {
   "cell_type": "code",
   "execution_count": 106,
   "id": "f140f7a5-074d-48f4-baf9-9a1bfe3be2f0",
   "metadata": {},
   "outputs": [],
   "source": [
    "# Объедините данные рекламы с данными о рекламных клиентах \n",
    "# и найдите среднее количество дней от даты создания рекламного клиента (create_date) \n",
    "# и первым запуском рекламного объявления этим клиентом (date)."
   ]
  },
  {
   "cell_type": "code",
   "execution_count": 114,
   "id": "65abaaf4-f75a-452a-94ce-0e2a13a39e4d",
   "metadata": {},
   "outputs": [],
   "source": [
    "merged_data = ads_clients_data.merge(ads_data, on='client_union_id', how='inner')"
   ]
  },
  {
   "cell_type": "code",
   "execution_count": 120,
   "id": "a2e813cd-566c-4ee6-8049-83d60c4e17c9",
   "metadata": {},
   "outputs": [
    {
     "data": {
      "text/html": [
       "<div>\n",
       "<style scoped>\n",
       "    .dataframe tbody tr th:only-of-type {\n",
       "        vertical-align: middle;\n",
       "    }\n",
       "\n",
       "    .dataframe tbody tr th {\n",
       "        vertical-align: top;\n",
       "    }\n",
       "\n",
       "    .dataframe thead th {\n",
       "        text-align: right;\n",
       "    }\n",
       "</style>\n",
       "<table border=\"1\" class=\"dataframe\">\n",
       "  <thead>\n",
       "    <tr style=\"text-align: right;\">\n",
       "      <th></th>\n",
       "      <th>date_x</th>\n",
       "      <th>client_union_id</th>\n",
       "      <th>community_id</th>\n",
       "      <th>create_date</th>\n",
       "      <th>date_y</th>\n",
       "      <th>time</th>\n",
       "      <th>event</th>\n",
       "      <th>platform</th>\n",
       "      <th>ad_id</th>\n",
       "      <th>campaign_union_id</th>\n",
       "      <th>ad_cost_type</th>\n",
       "      <th>ad_cost</th>\n",
       "      <th>has_video</th>\n",
       "      <th>target_audience_count</th>\n",
       "    </tr>\n",
       "  </thead>\n",
       "  <tbody>\n",
       "    <tr>\n",
       "      <th>0</th>\n",
       "      <td>2020-05-07</td>\n",
       "      <td>1</td>\n",
       "      <td>-130371893</td>\n",
       "      <td>2018-12-24</td>\n",
       "      <td>2019-04-01</td>\n",
       "      <td>2019-04-01 00:08:51</td>\n",
       "      <td>view</td>\n",
       "      <td>android</td>\n",
       "      <td>3</td>\n",
       "      <td>1</td>\n",
       "      <td>CPC</td>\n",
       "      <td>46.7</td>\n",
       "      <td>0</td>\n",
       "      <td>45035</td>\n",
       "    </tr>\n",
       "    <tr>\n",
       "      <th>1</th>\n",
       "      <td>2020-05-07</td>\n",
       "      <td>1</td>\n",
       "      <td>-130371893</td>\n",
       "      <td>2018-12-24</td>\n",
       "      <td>2019-04-01</td>\n",
       "      <td>2019-04-01 00:09:36</td>\n",
       "      <td>view</td>\n",
       "      <td>ios</td>\n",
       "      <td>3</td>\n",
       "      <td>1</td>\n",
       "      <td>CPC</td>\n",
       "      <td>46.7</td>\n",
       "      <td>0</td>\n",
       "      <td>45035</td>\n",
       "    </tr>\n",
       "    <tr>\n",
       "      <th>2</th>\n",
       "      <td>2020-05-07</td>\n",
       "      <td>1</td>\n",
       "      <td>-130371893</td>\n",
       "      <td>2018-12-24</td>\n",
       "      <td>2019-04-01</td>\n",
       "      <td>2019-04-01 00:29:30</td>\n",
       "      <td>view</td>\n",
       "      <td>ios</td>\n",
       "      <td>3</td>\n",
       "      <td>1</td>\n",
       "      <td>CPC</td>\n",
       "      <td>46.7</td>\n",
       "      <td>0</td>\n",
       "      <td>45035</td>\n",
       "    </tr>\n",
       "    <tr>\n",
       "      <th>3</th>\n",
       "      <td>2020-05-07</td>\n",
       "      <td>1</td>\n",
       "      <td>-130371893</td>\n",
       "      <td>2018-12-24</td>\n",
       "      <td>2019-04-01</td>\n",
       "      <td>2019-04-01 00:29:58</td>\n",
       "      <td>view</td>\n",
       "      <td>android</td>\n",
       "      <td>3</td>\n",
       "      <td>1</td>\n",
       "      <td>CPC</td>\n",
       "      <td>46.7</td>\n",
       "      <td>0</td>\n",
       "      <td>45035</td>\n",
       "    </tr>\n",
       "    <tr>\n",
       "      <th>4</th>\n",
       "      <td>2020-05-07</td>\n",
       "      <td>1</td>\n",
       "      <td>-130371893</td>\n",
       "      <td>2018-12-24</td>\n",
       "      <td>2019-04-01</td>\n",
       "      <td>2019-04-01 00:51:54</td>\n",
       "      <td>view</td>\n",
       "      <td>android</td>\n",
       "      <td>3</td>\n",
       "      <td>1</td>\n",
       "      <td>CPC</td>\n",
       "      <td>46.7</td>\n",
       "      <td>0</td>\n",
       "      <td>45035</td>\n",
       "    </tr>\n",
       "    <tr>\n",
       "      <th>...</th>\n",
       "      <td>...</td>\n",
       "      <td>...</td>\n",
       "      <td>...</td>\n",
       "      <td>...</td>\n",
       "      <td>...</td>\n",
       "      <td>...</td>\n",
       "      <td>...</td>\n",
       "      <td>...</td>\n",
       "      <td>...</td>\n",
       "      <td>...</td>\n",
       "      <td>...</td>\n",
       "      <td>...</td>\n",
       "      <td>...</td>\n",
       "      <td>...</td>\n",
       "    </tr>\n",
       "    <tr>\n",
       "      <th>999995</th>\n",
       "      <td>2020-05-07</td>\n",
       "      <td>122078</td>\n",
       "      <td>-130558729</td>\n",
       "      <td>2019-01-22</td>\n",
       "      <td>2019-04-04</td>\n",
       "      <td>2019-04-03 21:54:35</td>\n",
       "      <td>view</td>\n",
       "      <td>android</td>\n",
       "      <td>122078</td>\n",
       "      <td>122078</td>\n",
       "      <td>CPC</td>\n",
       "      <td>56.4</td>\n",
       "      <td>0</td>\n",
       "      <td>32354</td>\n",
       "    </tr>\n",
       "    <tr>\n",
       "      <th>999996</th>\n",
       "      <td>2020-05-07</td>\n",
       "      <td>122078</td>\n",
       "      <td>-130558729</td>\n",
       "      <td>2019-01-22</td>\n",
       "      <td>2019-04-04</td>\n",
       "      <td>2019-04-03 22:26:58</td>\n",
       "      <td>view</td>\n",
       "      <td>web</td>\n",
       "      <td>122078</td>\n",
       "      <td>122078</td>\n",
       "      <td>CPC</td>\n",
       "      <td>56.4</td>\n",
       "      <td>0</td>\n",
       "      <td>32354</td>\n",
       "    </tr>\n",
       "    <tr>\n",
       "      <th>999997</th>\n",
       "      <td>2020-05-07</td>\n",
       "      <td>122078</td>\n",
       "      <td>-130558729</td>\n",
       "      <td>2019-01-22</td>\n",
       "      <td>2019-04-04</td>\n",
       "      <td>2019-04-03 22:32:34</td>\n",
       "      <td>view</td>\n",
       "      <td>android</td>\n",
       "      <td>122078</td>\n",
       "      <td>122078</td>\n",
       "      <td>CPC</td>\n",
       "      <td>56.4</td>\n",
       "      <td>0</td>\n",
       "      <td>32354</td>\n",
       "    </tr>\n",
       "    <tr>\n",
       "      <th>999998</th>\n",
       "      <td>2020-05-07</td>\n",
       "      <td>122078</td>\n",
       "      <td>-130558729</td>\n",
       "      <td>2019-01-22</td>\n",
       "      <td>2019-04-04</td>\n",
       "      <td>2019-04-03 22:43:03</td>\n",
       "      <td>view</td>\n",
       "      <td>ios</td>\n",
       "      <td>122078</td>\n",
       "      <td>122078</td>\n",
       "      <td>CPC</td>\n",
       "      <td>56.4</td>\n",
       "      <td>0</td>\n",
       "      <td>32354</td>\n",
       "    </tr>\n",
       "    <tr>\n",
       "      <th>999999</th>\n",
       "      <td>2020-05-07</td>\n",
       "      <td>122078</td>\n",
       "      <td>-130558729</td>\n",
       "      <td>2019-01-22</td>\n",
       "      <td>2019-04-04</td>\n",
       "      <td>2019-04-03 23:18:11</td>\n",
       "      <td>view</td>\n",
       "      <td>android</td>\n",
       "      <td>122078</td>\n",
       "      <td>122078</td>\n",
       "      <td>CPC</td>\n",
       "      <td>56.4</td>\n",
       "      <td>0</td>\n",
       "      <td>32354</td>\n",
       "    </tr>\n",
       "  </tbody>\n",
       "</table>\n",
       "<p>1000000 rows × 14 columns</p>\n",
       "</div>"
      ],
      "text/plain": [
       "           date_x  client_union_id  community_id create_date     date_y  \\\n",
       "0      2020-05-07                1    -130371893  2018-12-24 2019-04-01   \n",
       "1      2020-05-07                1    -130371893  2018-12-24 2019-04-01   \n",
       "2      2020-05-07                1    -130371893  2018-12-24 2019-04-01   \n",
       "3      2020-05-07                1    -130371893  2018-12-24 2019-04-01   \n",
       "4      2020-05-07                1    -130371893  2018-12-24 2019-04-01   \n",
       "...           ...              ...           ...         ...        ...   \n",
       "999995 2020-05-07           122078    -130558729  2019-01-22 2019-04-04   \n",
       "999996 2020-05-07           122078    -130558729  2019-01-22 2019-04-04   \n",
       "999997 2020-05-07           122078    -130558729  2019-01-22 2019-04-04   \n",
       "999998 2020-05-07           122078    -130558729  2019-01-22 2019-04-04   \n",
       "999999 2020-05-07           122078    -130558729  2019-01-22 2019-04-04   \n",
       "\n",
       "                      time event platform   ad_id  campaign_union_id  \\\n",
       "0      2019-04-01 00:08:51  view  android       3                  1   \n",
       "1      2019-04-01 00:09:36  view      ios       3                  1   \n",
       "2      2019-04-01 00:29:30  view      ios       3                  1   \n",
       "3      2019-04-01 00:29:58  view  android       3                  1   \n",
       "4      2019-04-01 00:51:54  view  android       3                  1   \n",
       "...                    ...   ...      ...     ...                ...   \n",
       "999995 2019-04-03 21:54:35  view  android  122078             122078   \n",
       "999996 2019-04-03 22:26:58  view      web  122078             122078   \n",
       "999997 2019-04-03 22:32:34  view  android  122078             122078   \n",
       "999998 2019-04-03 22:43:03  view      ios  122078             122078   \n",
       "999999 2019-04-03 23:18:11  view  android  122078             122078   \n",
       "\n",
       "       ad_cost_type  ad_cost  has_video  target_audience_count  \n",
       "0               CPC     46.7          0                  45035  \n",
       "1               CPC     46.7          0                  45035  \n",
       "2               CPC     46.7          0                  45035  \n",
       "3               CPC     46.7          0                  45035  \n",
       "4               CPC     46.7          0                  45035  \n",
       "...             ...      ...        ...                    ...  \n",
       "999995          CPC     56.4          0                  32354  \n",
       "999996          CPC     56.4          0                  32354  \n",
       "999997          CPC     56.4          0                  32354  \n",
       "999998          CPC     56.4          0                  32354  \n",
       "999999          CPC     56.4          0                  32354  \n",
       "\n",
       "[1000000 rows x 14 columns]"
      ]
     },
     "execution_count": 120,
     "metadata": {},
     "output_type": "execute_result"
    }
   ],
   "source": [
    "merged_data"
   ]
  },
  {
   "cell_type": "code",
   "execution_count": 117,
   "id": "fd7a5a95-8f57-4c81-aae8-9a887fca73d4",
   "metadata": {},
   "outputs": [
    {
     "data": {
      "text/plain": [
       "date               datetime64[ns]\n",
       "client_union_id             int64\n",
       "community_id                int64\n",
       "create_date        datetime64[ns]\n",
       "dtype: object"
      ]
     },
     "execution_count": 117,
     "metadata": {},
     "output_type": "execute_result"
    }
   ],
   "source": [
    "ads_clients_data.dtypes"
   ]
  },
  {
   "cell_type": "code",
   "execution_count": 156,
   "id": "6a8a497f-069e-41b0-bfac-e601a03641fa",
   "metadata": {},
   "outputs": [],
   "source": [
    "merged_data['difference'] = merged_data.date_y - merged_data.create_date "
   ]
  },
  {
   "cell_type": "code",
   "execution_count": 157,
   "id": "58024dff-038e-4725-b4db-c8c65efda711",
   "metadata": {},
   "outputs": [],
   "source": [
    "first_ad = merged_data.groupby('client_union_id')['difference'].min()"
   ]
  },
  {
   "cell_type": "code",
   "execution_count": 163,
   "id": "f0f8c354-a0a0-488a-aaa8-2b3cde6195c4",
   "metadata": {},
   "outputs": [
    {
     "data": {
      "text/plain": [
       "client_union_id\n",
       "1         98 days\n",
       "9        114 days\n",
       "13        66 days\n",
       "16       105 days\n",
       "20        32 days\n",
       "           ...   \n",
       "122004    67 days\n",
       "122013   151 days\n",
       "122023   126 days\n",
       "122031    96 days\n",
       "122078    71 days\n",
       "Name: difference, Length: 838, dtype: timedelta64[ns]"
      ]
     },
     "execution_count": 163,
     "metadata": {},
     "output_type": "execute_result"
    }
   ],
   "source": [
    "first_ad"
   ]
  },
  {
   "cell_type": "code",
   "execution_count": 164,
   "id": "729dd0fd-26eb-42db-bc01-02f5a491bf94",
   "metadata": {},
   "outputs": [],
   "source": [
    "threshold = pd.Timedelta(365, unit='day')"
   ]
  },
  {
   "cell_type": "code",
   "execution_count": 165,
   "id": "8033e40c-9f71-4b7a-9d08-2ad1108e3870",
   "metadata": {},
   "outputs": [],
   "source": [
    "It_365 = first_ad.loc[first_ad < threshold]"
   ]
  },
  {
   "cell_type": "code",
   "execution_count": 166,
   "id": "9ae681cc-2138-4913-abfd-474b57abda34",
   "metadata": {},
   "outputs": [
    {
     "data": {
      "text/plain": [
       "Timedelta('124 days 09:04:43.532219570')"
      ]
     },
     "execution_count": 166,
     "metadata": {},
     "output_type": "execute_result"
    }
   ],
   "source": [
    "first_ad.mean()"
   ]
  },
  {
   "cell_type": "code",
   "execution_count": 167,
   "id": "5b8ee8f3-9739-464c-b717-b8023cf39a71",
   "metadata": {},
   "outputs": [],
   "source": [
    "# Давайте вычислим конверсию из создания рекламного кабинета в запуск первой рекламы в течение не более 365 дней.\n",
    "# Конверсия – отношение числа клиентов, которые совершили целевое действие (создали рекламу), к общему числу клиентов.\n",
    "# Чтобы отобрать данные за нужный промежуток, можно воспользоваться сравнением времени до создания первой рекламы с pd.Timedelta(365, unit='day'))"
   ]
  },
  {
   "cell_type": "code",
   "execution_count": 172,
   "id": "db53e2b8-7195-4f54-a514-328ded109b3d",
   "metadata": {},
   "outputs": [
    {
     "data": {
      "text/plain": [
       "Timedelta('365 days 00:00:00')"
      ]
     },
     "execution_count": 172,
     "metadata": {},
     "output_type": "execute_result"
    }
   ],
   "source": [
    "pd.Timedelta(365, unit='day')"
   ]
  },
  {
   "cell_type": "code",
   "execution_count": 171,
   "id": "e6a33421-55c0-46ce-a4d4-3bd78ce1672e",
   "metadata": {},
   "outputs": [
    {
     "data": {
      "text/plain": [
       "0.69"
      ]
     },
     "execution_count": 171,
     "metadata": {},
     "output_type": "execute_result"
    }
   ],
   "source": [
    "np.round(len(It_365) / ads_clients_data.client_union_id.nunique() * 100, 2)"
   ]
  },
  {
   "cell_type": "code",
   "execution_count": null,
   "id": "ba52bbb8-881d-476f-a1d7-cb4e8c7e58c8",
   "metadata": {},
   "outputs": [],
   "source": []
  },
  {
   "cell_type": "code",
   "execution_count": null,
   "id": "e24e4fcc-b05f-4f73-a23b-2ff4e0f143cc",
   "metadata": {},
   "outputs": [],
   "source": []
  }
 ],
 "metadata": {
  "kernelspec": {
   "display_name": "Python 3 (ipykernel)",
   "language": "python",
   "name": "python3"
  },
  "language_info": {
   "codemirror_mode": {
    "name": "ipython",
    "version": 3
   },
   "file_extension": ".py",
   "mimetype": "text/x-python",
   "name": "python",
   "nbconvert_exporter": "python",
   "pygments_lexer": "ipython3",
   "version": "3.11.7"
  },
  "widgets": {
   "application/vnd.jupyter.widget-state+json": {
    "state": {},
    "version_major": 2,
    "version_minor": 0
   }
  }
 },
 "nbformat": 4,
 "nbformat_minor": 5
}
