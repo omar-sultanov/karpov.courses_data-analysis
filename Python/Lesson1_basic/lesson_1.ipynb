{
 "cells": [
  {
   "cell_type": "code",
   "execution_count": 1,
   "id": "9f96ded0",
   "metadata": {},
   "outputs": [
    {
     "data": {
      "text/plain": [
       "5"
      ]
     },
     "execution_count": 1,
     "metadata": {},
     "output_type": "execute_result"
    }
   ],
   "source": [
    "3+2"
   ]
  },
  {
   "cell_type": "code",
   "execution_count": 16,
   "id": "6b7c68f9",
   "metadata": {},
   "outputs": [],
   "source": [
    "ex_years = 5"
   ]
  },
  {
   "cell_type": "code",
   "execution_count": 17,
   "id": "bb0b739f",
   "metadata": {},
   "outputs": [],
   "source": [
    "salary = 1000"
   ]
  },
  {
   "cell_type": "code",
   "execution_count": 18,
   "id": "b691c08e",
   "metadata": {},
   "outputs": [],
   "source": [
    "new_salary = 0"
   ]
  },
  {
   "cell_type": "code",
   "execution_count": 19,
   "id": "b2d470be",
   "metadata": {},
   "outputs": [
    {
     "name": "stdout",
     "output_type": "stream",
     "text": [
      "have bonus 40%\n",
      "1400.0\n"
     ]
    }
   ],
   "source": [
    "if ex_years <=1:\n",
    "    print(\"Have not bonus\")\n",
    "    new_salary = salary+salary *0\n",
    "elif ex_years > 1 and ex_years <= 3:\n",
    "    print(\"have bonus 20%\")\n",
    "    new_salary = salary+ salary*0.2\n",
    "else:\n",
    "    print(\"have bonus 40%\")\n",
    "    new_salary = salary + salary*0.4\n",
    "    \n",
    "print(new_salary)"
   ]
  },
  {
   "cell_type": "code",
   "execution_count": 2,
   "id": "a64c76b1",
   "metadata": {},
   "outputs": [],
   "source": [
    "names = ['Omar','Olga']"
   ]
  },
  {
   "cell_type": "code",
   "execution_count": 3,
   "id": "526d8add",
   "metadata": {},
   "outputs": [
    {
     "data": {
      "text/plain": [
       "['Omar', 'Olga']"
      ]
     },
     "execution_count": 3,
     "metadata": {},
     "output_type": "execute_result"
    }
   ],
   "source": [
    "names"
   ]
  },
  {
   "cell_type": "code",
   "execution_count": 8,
   "id": "93310795",
   "metadata": {},
   "outputs": [],
   "source": [
    "message = 'Our player won, their names are {player1},{player2}'"
   ]
  },
  {
   "cell_type": "code",
   "execution_count": 9,
   "id": "687a6aad",
   "metadata": {},
   "outputs": [
    {
     "data": {
      "text/plain": [
       "'Our player won, their names are Omar,Olga'"
      ]
     },
     "execution_count": 9,
     "metadata": {},
     "output_type": "execute_result"
    }
   ],
   "source": [
    "message.format(player1 = names[0],player2 = names[1])"
   ]
  },
  {
   "cell_type": "code",
   "execution_count": 22,
   "id": "638967c3",
   "metadata": {},
   "outputs": [],
   "source": [
    "dict = {\"player1\":[\"Omar\",26], \"player2\":[\"Rustam\",28]}"
   ]
  },
  {
   "cell_type": "code",
   "execution_count": 23,
   "id": "e5aa3693",
   "metadata": {},
   "outputs": [
    {
     "data": {
      "text/plain": [
       "{'player1': ['Omar', 26], 'player2': ['Rustam', 28]}"
      ]
     },
     "execution_count": 23,
     "metadata": {},
     "output_type": "execute_result"
    }
   ],
   "source": [
    "dict"
   ]
  },
  {
   "cell_type": "code",
   "execution_count": 26,
   "id": "06501ac4",
   "metadata": {},
   "outputs": [
    {
     "name": "stdout",
     "output_type": "stream",
     "text": [
      "Rustam\n"
     ]
    }
   ],
   "source": [
    "for i in dict:\n",
    "    if dict[i][1]>26:\n",
    "        print(dict[i][0])"
   ]
  },
  {
   "cell_type": "code",
   "execution_count": null,
   "id": "5b88839d",
   "metadata": {},
   "outputs": [],
   "source": []
  }
 ],
 "metadata": {
  "kernelspec": {
   "display_name": "Python 3.10.4 64-bit",
   "language": "python",
   "name": "python3"
  },
  "language_info": {
   "codemirror_mode": {
    "name": "ipython",
    "version": 3
   },
   "file_extension": ".py",
   "mimetype": "text/x-python",
   "name": "python",
   "nbconvert_exporter": "python",
   "pygments_lexer": "ipython3",
   "version": "3.10.4"
  },
  "vscode": {
   "interpreter": {
    "hash": "946bca45cd194ef20b20aa2df2b6857f6c4def631856f59c9b0da3a792eb3375"
   }
  }
 },
 "nbformat": 4,
 "nbformat_minor": 5
}
