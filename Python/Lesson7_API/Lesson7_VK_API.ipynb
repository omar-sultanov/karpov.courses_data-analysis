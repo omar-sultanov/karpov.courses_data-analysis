{
 "cells": [
  {
   "cell_type": "code",
   "execution_count": 3,
   "id": "91e884cc-6b43-45bf-a20a-bb45849da1ef",
   "metadata": {},
   "outputs": [],
   "source": [
    "import pandas as pd\n",
    "import datetime\n",
    "import vk_api\n",
    "import os\n",
    "import requests\n",
    "import json\n",
    "import random\n",
    "\n",
    "%matplotlib inline\n",
    "import matplotlib.pyplot as plt\n",
    "import seaborn as sns\n",
    "import sys"
   ]
  },
  {
   "cell_type": "code",
   "execution_count": 4,
   "id": "714cc25f-71a0-49cb-ad47-0fb73c5b764a",
   "metadata": {},
   "outputs": [],
   "source": [
    "token = 'vk1.a.otLsAEXa8C6Y5rzitVBbgEm3qjK5Wy-QEtyiM9lI9amp14EHzoQEmH2sRVi00wv2LYdwo8SOOqO1DAvvX-cHbPH3eo-uhFWgJJyWreD5R7_VGWUf0cKjeZj5n7jRN5a44gyqkerx5h0Ast0F0XlvudPgQ3KsfueFxdpliV8fG-a_TogwzhcGI_M_FQY-ShWu7q4KCZICuKuD8BVrrHg6og'"
   ]
  },
  {
   "cell_type": "code",
   "execution_count": 8,
   "id": "60a1b23d-71da-40f0-944a-a9b7c1143132",
   "metadata": {},
   "outputs": [],
   "source": [
    "vk_session = vk_api.VkApi(token=token)\n",
    "vk = vk_session.get_api()"
   ]
  },
  {
   "cell_type": "code",
   "execution_count": 13,
   "id": "11dd425e-fff5-4b20-8af7-a84eb79572ff",
   "metadata": {},
   "outputs": [
    {
     "data": {
      "text/plain": [
       "0"
      ]
     },
     "execution_count": 13,
     "metadata": {},
     "output_type": "execute_result"
    }
   ],
   "source": [
    "vk.messages.send(\n",
    "    chat_id=1,\n",
    "    random_id=0,\n",
    "    message='ЧЧЧЧ'\n",
    ")"
   ]
  },
  {
   "cell_type": "code",
   "execution_count": 10,
   "id": "21c433d5-6298-4dcf-9cc0-86e73f47b2c1",
   "metadata": {},
   "outputs": [
    {
     "data": {
      "text/plain": [
       "0"
      ]
     },
     "execution_count": 10,
     "metadata": {},
     "output_type": "execute_result"
    }
   ],
   "source": [
    "# vk_session.method('messages.send', {'chat_id': 1, 'message': 'Wake up ELchin and Igramin!!!', 'random_id': 0})"
   ]
  },
  {
   "cell_type": "code",
   "execution_count": 11,
   "id": "20a07fa5",
   "metadata": {},
   "outputs": [
    {
     "data": {
      "text/plain": [
       "0"
      ]
     },
     "execution_count": 11,
     "metadata": {},
     "output_type": "execute_result"
    }
   ],
   "source": [
    "# проверка как много груп общих ващих друзей"
   ]
  },
  {
   "cell_type": "code",
   "execution_count": 14,
   "id": "f42b6adf",
   "metadata": {},
   "outputs": [],
   "source": [
    "ads_data = pd.read_csv('./ads_data.csv')"
   ]
  },
  {
   "cell_type": "code",
   "execution_count": 15,
   "id": "954356d1",
   "metadata": {},
   "outputs": [
    {
     "data": {
      "text/html": [
       "<div>\n",
       "<style scoped>\n",
       "    .dataframe tbody tr th:only-of-type {\n",
       "        vertical-align: middle;\n",
       "    }\n",
       "\n",
       "    .dataframe tbody tr th {\n",
       "        vertical-align: top;\n",
       "    }\n",
       "\n",
       "    .dataframe thead th {\n",
       "        text-align: right;\n",
       "    }\n",
       "</style>\n",
       "<table border=\"1\" class=\"dataframe\">\n",
       "  <thead>\n",
       "    <tr style=\"text-align: right;\">\n",
       "      <th></th>\n",
       "      <th>date</th>\n",
       "      <th>time</th>\n",
       "      <th>event</th>\n",
       "      <th>platform</th>\n",
       "      <th>ad_id</th>\n",
       "      <th>client_union_id</th>\n",
       "      <th>campaign_union_id</th>\n",
       "      <th>ad_cost_type</th>\n",
       "      <th>ad_cost</th>\n",
       "      <th>has_video</th>\n",
       "      <th>target_audience_count</th>\n",
       "    </tr>\n",
       "  </thead>\n",
       "  <tbody>\n",
       "    <tr>\n",
       "      <th>0</th>\n",
       "      <td>2019-04-01</td>\n",
       "      <td>2019-04-01 00:00:48</td>\n",
       "      <td>view</td>\n",
       "      <td>android</td>\n",
       "      <td>45061</td>\n",
       "      <td>34734</td>\n",
       "      <td>45061</td>\n",
       "      <td>CPM</td>\n",
       "      <td>200.6</td>\n",
       "      <td>0</td>\n",
       "      <td>1955269</td>\n",
       "    </tr>\n",
       "    <tr>\n",
       "      <th>1</th>\n",
       "      <td>2019-04-01</td>\n",
       "      <td>2019-04-01 00:00:48</td>\n",
       "      <td>view</td>\n",
       "      <td>web</td>\n",
       "      <td>121288</td>\n",
       "      <td>121288</td>\n",
       "      <td>121288</td>\n",
       "      <td>CPM</td>\n",
       "      <td>187.4</td>\n",
       "      <td>0</td>\n",
       "      <td>232011</td>\n",
       "    </tr>\n",
       "    <tr>\n",
       "      <th>2</th>\n",
       "      <td>2019-04-01</td>\n",
       "      <td>2019-04-01 00:01:03</td>\n",
       "      <td>view</td>\n",
       "      <td>android</td>\n",
       "      <td>102737</td>\n",
       "      <td>102535</td>\n",
       "      <td>102564</td>\n",
       "      <td>CPC</td>\n",
       "      <td>60.7</td>\n",
       "      <td>0</td>\n",
       "      <td>4410</td>\n",
       "    </tr>\n",
       "    <tr>\n",
       "      <th>3</th>\n",
       "      <td>2019-04-01</td>\n",
       "      <td>2019-04-01 00:01:03</td>\n",
       "      <td>view</td>\n",
       "      <td>android</td>\n",
       "      <td>107564</td>\n",
       "      <td>106914</td>\n",
       "      <td>107564</td>\n",
       "      <td>CPM</td>\n",
       "      <td>217.3</td>\n",
       "      <td>0</td>\n",
       "      <td>62711</td>\n",
       "    </tr>\n",
       "    <tr>\n",
       "      <th>4</th>\n",
       "      <td>2019-04-01</td>\n",
       "      <td>2019-04-01 00:01:09</td>\n",
       "      <td>view</td>\n",
       "      <td>android</td>\n",
       "      <td>4922</td>\n",
       "      <td>37</td>\n",
       "      <td>4400</td>\n",
       "      <td>CPC</td>\n",
       "      <td>60.1</td>\n",
       "      <td>0</td>\n",
       "      <td>1183501</td>\n",
       "    </tr>\n",
       "  </tbody>\n",
       "</table>\n",
       "</div>"
      ],
      "text/plain": [
       "         date                 time event platform   ad_id  client_union_id  \\\n",
       "0  2019-04-01  2019-04-01 00:00:48  view  android   45061            34734   \n",
       "1  2019-04-01  2019-04-01 00:00:48  view      web  121288           121288   \n",
       "2  2019-04-01  2019-04-01 00:01:03  view  android  102737           102535   \n",
       "3  2019-04-01  2019-04-01 00:01:03  view  android  107564           106914   \n",
       "4  2019-04-01  2019-04-01 00:01:09  view  android    4922               37   \n",
       "\n",
       "   campaign_union_id ad_cost_type  ad_cost  has_video  target_audience_count  \n",
       "0              45061          CPM    200.6          0                1955269  \n",
       "1             121288          CPM    187.4          0                 232011  \n",
       "2             102564          CPC     60.7          0                   4410  \n",
       "3             107564          CPM    217.3          0                  62711  \n",
       "4               4400          CPC     60.1          0                1183501  "
      ]
     },
     "execution_count": 15,
     "metadata": {},
     "output_type": "execute_result"
    }
   ],
   "source": [
    "ads_data.head()"
   ]
  },
  {
   "cell_type": "code",
   "execution_count": 22,
   "id": "170e4879",
   "metadata": {},
   "outputs": [],
   "source": [
    "# top-10 ads by ctr\n",
    "ads_data_by_events = ads_data.groupby(['event','ad_id'], as_index=False)\\\n",
    "    .agg({'time':'count'})\\\n",
    "    .pivot(index='ad_id', columns='event', values='time')\\\n",
    "    .reset_index()"
   ]
  },
  {
   "cell_type": "code",
   "execution_count": 25,
   "id": "6078b608",
   "metadata": {},
   "outputs": [],
   "source": [
    "ads_data_by_events_ctr = ads_data_by_events.fillna(0).assign(ctr = ads_data_by_events.click/ads_data_by_events.view)"
   ]
  },
  {
   "cell_type": "code",
   "execution_count": 33,
   "id": "217f05a7",
   "metadata": {},
   "outputs": [],
   "source": [
    "top_ctr = ads_data_by_events_ctr.query(\"click > 10 & view>2\").sort_values('ctr').tail(10)"
   ]
  },
  {
   "cell_type": "code",
   "execution_count": 34,
   "id": "a47c2951",
   "metadata": {},
   "outputs": [
    {
     "data": {
      "text/html": [
       "<div>\n",
       "<style scoped>\n",
       "    .dataframe tbody tr th:only-of-type {\n",
       "        vertical-align: middle;\n",
       "    }\n",
       "\n",
       "    .dataframe tbody tr th {\n",
       "        vertical-align: top;\n",
       "    }\n",
       "\n",
       "    .dataframe thead th {\n",
       "        text-align: right;\n",
       "    }\n",
       "</style>\n",
       "<table border=\"1\" class=\"dataframe\">\n",
       "  <thead>\n",
       "    <tr style=\"text-align: right;\">\n",
       "      <th>event</th>\n",
       "      <th>ad_id</th>\n",
       "      <th>click</th>\n",
       "      <th>view</th>\n",
       "      <th>ctr</th>\n",
       "    </tr>\n",
       "  </thead>\n",
       "  <tbody>\n",
       "    <tr>\n",
       "      <th>114</th>\n",
       "      <td>18525</td>\n",
       "      <td>25.0</td>\n",
       "      <td>409.0</td>\n",
       "      <td>0.061125</td>\n",
       "    </tr>\n",
       "    <tr>\n",
       "      <th>93</th>\n",
       "      <td>17396</td>\n",
       "      <td>17.0</td>\n",
       "      <td>276.0</td>\n",
       "      <td>0.061594</td>\n",
       "    </tr>\n",
       "    <tr>\n",
       "      <th>132</th>\n",
       "      <td>20374</td>\n",
       "      <td>21.0</td>\n",
       "      <td>328.0</td>\n",
       "      <td>0.064024</td>\n",
       "    </tr>\n",
       "    <tr>\n",
       "      <th>128</th>\n",
       "      <td>19946</td>\n",
       "      <td>11.0</td>\n",
       "      <td>163.0</td>\n",
       "      <td>0.067485</td>\n",
       "    </tr>\n",
       "    <tr>\n",
       "      <th>319</th>\n",
       "      <td>35953</td>\n",
       "      <td>20.0</td>\n",
       "      <td>285.0</td>\n",
       "      <td>0.070175</td>\n",
       "    </tr>\n",
       "    <tr>\n",
       "      <th>359</th>\n",
       "      <td>38224</td>\n",
       "      <td>18.0</td>\n",
       "      <td>253.0</td>\n",
       "      <td>0.071146</td>\n",
       "    </tr>\n",
       "    <tr>\n",
       "      <th>703</th>\n",
       "      <td>105604</td>\n",
       "      <td>14.0</td>\n",
       "      <td>169.0</td>\n",
       "      <td>0.082840</td>\n",
       "    </tr>\n",
       "    <tr>\n",
       "      <th>838</th>\n",
       "      <td>114959</td>\n",
       "      <td>22.0</td>\n",
       "      <td>259.0</td>\n",
       "      <td>0.084942</td>\n",
       "    </tr>\n",
       "    <tr>\n",
       "      <th>621</th>\n",
       "      <td>46639</td>\n",
       "      <td>44.0</td>\n",
       "      <td>253.0</td>\n",
       "      <td>0.173913</td>\n",
       "    </tr>\n",
       "    <tr>\n",
       "      <th>787</th>\n",
       "      <td>112583</td>\n",
       "      <td>105767.0</td>\n",
       "      <td>351802.0</td>\n",
       "      <td>0.300644</td>\n",
       "    </tr>\n",
       "  </tbody>\n",
       "</table>\n",
       "</div>"
      ],
      "text/plain": [
       "event   ad_id     click      view       ctr\n",
       "114     18525      25.0     409.0  0.061125\n",
       "93      17396      17.0     276.0  0.061594\n",
       "132     20374      21.0     328.0  0.064024\n",
       "128     19946      11.0     163.0  0.067485\n",
       "319     35953      20.0     285.0  0.070175\n",
       "359     38224      18.0     253.0  0.071146\n",
       "703    105604      14.0     169.0  0.082840\n",
       "838    114959      22.0     259.0  0.084942\n",
       "621     46639      44.0     253.0  0.173913\n",
       "787    112583  105767.0  351802.0  0.300644"
      ]
     },
     "execution_count": 34,
     "metadata": {},
     "output_type": "execute_result"
    }
   ],
   "source": [
    "top_ctr"
   ]
  },
  {
   "cell_type": "code",
   "execution_count": 36,
   "id": "c6c934c0",
   "metadata": {},
   "outputs": [],
   "source": [
    "top_ctr.to_csv('top_ctr_data.csv', index=False)"
   ]
  },
  {
   "cell_type": "code",
   "execution_count": 55,
   "id": "e394b848",
   "metadata": {},
   "outputs": [],
   "source": [
    "# send .csv file to message group\n",
    "result = json.loads(requests.post(vk.docs.getMessagesUploadServer(\n",
    "        type='doc',   \n",
    "        peer_id=2000000001\n",
    "        )['upload_url'], \n",
    "    files={'file': open('./top_ctr_data.csv', 'rb')}).text\n",
    "    )\n",
    "jsonAnswer = vk.docs.save(file=result['file'], title='Top Clickthrough rate (CTR)', tags=[])"
   ]
  },
  {
   "cell_type": "code",
   "execution_count": 53,
   "id": "f8746394",
   "metadata": {},
   "outputs": [
    {
     "data": {
      "text/plain": [
       "0"
      ]
     },
     "execution_count": 53,
     "metadata": {},
     "output_type": "execute_result"
    }
   ],
   "source": [
    "vk.messages.send(\n",
    "    peer_id=2000000001, \n",
    "    random_id=0, \n",
    "    attachment=f\"doc{jsonAnswer['doc']['owner_id']}_{jsonAnswer['doc']['id']}\"\n",
    "    )"
   ]
  },
  {
   "cell_type": "code",
   "execution_count": 88,
   "id": "2f3c0f1b",
   "metadata": {},
   "outputs": [],
   "source": [
    "# send image file to message group\n",
    "\n",
    "uploadurl = vk.photos.getMessagesUploadServer(peer_id = 2000000001)['upload_url']\n",
    "pfile = requests.post(uploadurl, files = {'photo': open('./image.jpg', 'rb')}).json()\n",
    "jsonAnswer = vk.photos.saveMessagesPhoto(server = pfile['server'], photo = pfile['photo'], hash = pfile['hash'])[0]\n"
   ]
  },
  {
   "cell_type": "code",
   "execution_count": 89,
   "id": "20397b65",
   "metadata": {},
   "outputs": [
    {
     "data": {
      "text/plain": [
       "0"
      ]
     },
     "execution_count": 89,
     "metadata": {},
     "output_type": "execute_result"
    }
   ],
   "source": [
    "vk.messages.send(\n",
    "    peer_id=2000000001, \n",
    "    random_id=0, \n",
    "    message='Хайи Ватан(Диге)',\n",
    "    attachment=\"photo{}_{}\".format(jsonAnswer[\"owner_id\"], jsonAnswer[\"id\"])\n",
    "    )"
   ]
  },
  {
   "cell_type": "code",
   "execution_count": null,
   "id": "1741f6e7",
   "metadata": {},
   "outputs": [],
   "source": []
  }
 ],
 "metadata": {
  "kernelspec": {
   "display_name": "Python 3 (ipykernel)",
   "language": "python",
   "name": "python3"
  },
  "language_info": {
   "codemirror_mode": {
    "name": "ipython",
    "version": 3
   },
   "file_extension": ".py",
   "mimetype": "text/x-python",
   "name": "python",
   "nbconvert_exporter": "python",
   "pygments_lexer": "ipython3",
   "version": "3.11.7"
  },
  "widgets": {
   "application/vnd.jupyter.widget-state+json": {
    "state": {},
    "version_major": 2,
    "version_minor": 0
   }
  }
 },
 "nbformat": 4,
 "nbformat_minor": 5
}
