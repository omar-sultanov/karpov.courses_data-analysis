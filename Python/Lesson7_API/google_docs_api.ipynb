{
 "cells": [
  {
   "cell_type": "code",
   "execution_count": 48,
   "id": "1bdc40b8-3007-43a6-adb5-523fa99c8558",
   "metadata": {},
   "outputs": [],
   "source": [
    "import gspread \n",
    "from df2gspread import df2gspread as d2g\n",
    "import pandas as pd\n",
    "from oauth2client.service_account import ServiceAccountCredentials\n"
   ]
  },
  {
   "cell_type": "markdown",
   "id": "d7e6d556",
   "metadata": {},
   "source": []
  },
  {
   "cell_type": "code",
   "execution_count": 49,
   "id": "99a9bf98",
   "metadata": {},
   "outputs": [],
   "source": [
    "# Specify path to your file with credentials\n",
    "path_to_credential = './glassy-vial-424214-h2-f489e8466291.json'\n",
    "table_name = 'students'"
   ]
  },
  {
   "cell_type": "code",
   "execution_count": 50,
   "id": "5c8e2cc8",
   "metadata": {},
   "outputs": [],
   "source": [
    "scope =['https://spreadsheets.google.com/feeds',\n",
    "        'https://www.googleapis.com/auth/drive']\n",
    "\n",
    "credentials = ServiceAccountCredentials.from_json_keyfile_name(path_to_credential, scope)"
   ]
  },
  {
   "cell_type": "code",
   "execution_count": 51,
   "id": "53193c55",
   "metadata": {},
   "outputs": [],
   "source": [
    "gs = gspread.authorize(credentials)\n",
    "work_sheet = gs.open(table_name)\n",
    "\n"
   ]
  },
  {
   "cell_type": "code",
   "execution_count": 52,
   "id": "fba98841",
   "metadata": {},
   "outputs": [],
   "source": [
    "\n",
    "# Select 1st sheet\n",
    "sheet1 = work_sheet.sheet1"
   ]
  },
  {
   "cell_type": "code",
   "execution_count": 53,
   "id": "e5969065",
   "metadata": {},
   "outputs": [],
   "source": [
    "# Get data in python lists format\n",
    "data = sheet1.get_all_values()"
   ]
  },
  {
   "cell_type": "code",
   "execution_count": 54,
   "id": "721f505c",
   "metadata": {},
   "outputs": [],
   "source": [
    "# Get header from data\n",
    "header = data.pop(0)"
   ]
  },
  {
   "cell_type": "code",
   "execution_count": 55,
   "id": "fe9697b3",
   "metadata": {},
   "outputs": [],
   "source": [
    "# Create df\n",
    "df = pd.DataFrame(data, columns = header)"
   ]
  },
  {
   "cell_type": "code",
   "execution_count": 56,
   "id": "e1336d6b",
   "metadata": {},
   "outputs": [
    {
     "data": {
      "text/html": [
       "<div>\n",
       "<style scoped>\n",
       "    .dataframe tbody tr th:only-of-type {\n",
       "        vertical-align: middle;\n",
       "    }\n",
       "\n",
       "    .dataframe tbody tr th {\n",
       "        vertical-align: top;\n",
       "    }\n",
       "\n",
       "    .dataframe thead th {\n",
       "        text-align: right;\n",
       "    }\n",
       "</style>\n",
       "<table border=\"1\" class=\"dataframe\">\n",
       "  <thead>\n",
       "    <tr style=\"text-align: right;\">\n",
       "      <th></th>\n",
       "      <th>name</th>\n",
       "      <th>surname</th>\n",
       "      <th>age</th>\n",
       "    </tr>\n",
       "  </thead>\n",
       "  <tbody>\n",
       "    <tr>\n",
       "      <th>0</th>\n",
       "      <td>Ali</td>\n",
       "      <td>Sultan</td>\n",
       "      <td>22</td>\n",
       "    </tr>\n",
       "    <tr>\n",
       "      <th>1</th>\n",
       "      <td>Enver</td>\n",
       "      <td>Kaya</td>\n",
       "      <td>33</td>\n",
       "    </tr>\n",
       "    <tr>\n",
       "      <th>2</th>\n",
       "      <td>Olya</td>\n",
       "      <td>Sniyakova</td>\n",
       "      <td>26</td>\n",
       "    </tr>\n",
       "    <tr>\n",
       "      <th>3</th>\n",
       "      <td>Olya</td>\n",
       "      <td>Sniyakova</td>\n",
       "      <td>26</td>\n",
       "    </tr>\n",
       "    <tr>\n",
       "      <th>4</th>\n",
       "      <td>Olya</td>\n",
       "      <td>Sniyakova</td>\n",
       "      <td>26</td>\n",
       "    </tr>\n",
       "    <tr>\n",
       "      <th>5</th>\n",
       "      <td>Olya</td>\n",
       "      <td>Sniyakova</td>\n",
       "      <td>26</td>\n",
       "    </tr>\n",
       "    <tr>\n",
       "      <th>6</th>\n",
       "      <td>Olya</td>\n",
       "      <td>Sniyakova</td>\n",
       "      <td>26</td>\n",
       "    </tr>\n",
       "    <tr>\n",
       "      <th>7</th>\n",
       "      <td>Olya</td>\n",
       "      <td>Sniyakova</td>\n",
       "      <td>26</td>\n",
       "    </tr>\n",
       "  </tbody>\n",
       "</table>\n",
       "</div>"
      ],
      "text/plain": [
       "    name    surname age\n",
       "0    Ali     Sultan  22\n",
       "1  Enver       Kaya  33\n",
       "2   Olya  Sniyakova  26\n",
       "3   Olya  Sniyakova  26\n",
       "4   Olya  Sniyakova  26\n",
       "5   Olya  Sniyakova  26\n",
       "6   Olya  Sniyakova  26\n",
       "7   Olya  Sniyakova  26"
      ]
     },
     "execution_count": 56,
     "metadata": {},
     "output_type": "execute_result"
    }
   ],
   "source": [
    "df"
   ]
  },
  {
   "cell_type": "code",
   "execution_count": null,
   "id": "a52bc9f9",
   "metadata": {},
   "outputs": [],
   "source": []
  },
  {
   "cell_type": "code",
   "execution_count": 57,
   "id": "708bbb3a-5d88-4158-b9a4-da960ee24268",
   "metadata": {},
   "outputs": [
    {
     "data": {
      "text/plain": [
       "{'spreadsheetId': '1Tbo1mmROF_mQbGLUHjNINXnQRl74DsgvuGc6j1eTgNc',\n",
       " 'tableRange': \"'Лист1'!A1:C9\",\n",
       " 'updates': {'spreadsheetId': '1Tbo1mmROF_mQbGLUHjNINXnQRl74DsgvuGc6j1eTgNc',\n",
       "  'updatedRange': \"'Лист1'!A10:C10\",\n",
       "  'updatedRows': 1,\n",
       "  'updatedColumns': 3,\n",
       "  'updatedCells': 3}}"
      ]
     },
     "execution_count": 57,
     "metadata": {},
     "output_type": "execute_result"
    }
   ],
   "source": [
    "sheet1.append_row(['Olya','Sniyakova','26'])"
   ]
  },
  {
   "cell_type": "code",
   "execution_count": 58,
   "id": "d16923cc",
   "metadata": {},
   "outputs": [
    {
     "data": {
      "text/plain": [
       "<Spreadsheet 'students' id:1Tbo1mmROF_mQbGLUHjNINXnQRl74DsgvuGc6j1eTgNc>"
      ]
     },
     "execution_count": 58,
     "metadata": {},
     "output_type": "execute_result"
    }
   ],
   "source": [
    "sheet1.spreadsheet"
   ]
  },
  {
   "cell_type": "code",
   "execution_count": 59,
   "id": "d694cc0d",
   "metadata": {},
   "outputs": [
    {
     "data": {
      "text/plain": [
       "<bound method Spreadsheet._spreadsheets_get of <Spreadsheet 'A Sreadsheet' id:1JGPelh8YJCZgXhyq2aFiwnEmC03s0vHpnD-2xvopp8U>>"
      ]
     },
     "execution_count": 59,
     "metadata": {},
     "output_type": "execute_result"
    }
   ],
   "source": [
    "# Create empty table\n",
    "table_name = \"A Sreadsheet\"\n",
    "sheet = gs.create(table_name)\n",
    "sheet._spreadsheets_get"
   ]
  },
  {
   "cell_type": "code",
   "execution_count": 60,
   "id": "b88059f9",
   "metadata": {},
   "outputs": [
    {
     "data": {
      "text/plain": [
       "<Response [200]>"
      ]
     },
     "execution_count": 60,
     "metadata": {},
     "output_type": "execute_result"
    }
   ],
   "source": [
    "# Make is visible to other guys\n",
    "my_mail = 'omar.sultanov.98@gmail.com'\n",
    "sheet.share(my_mail, perm_type='user', role='writer')"
   ]
  },
  {
   "cell_type": "code",
   "execution_count": 61,
   "id": "4c614ea3",
   "metadata": {},
   "outputs": [
    {
     "data": {
      "text/plain": [
       "'A Sreadsheet'"
      ]
     },
     "execution_count": 61,
     "metadata": {},
     "output_type": "execute_result"
    }
   ],
   "source": [
    "# sheet.values_append(['name','surname'])\n",
    "# worksheet = sheet.add_worksheet(title=\"A worksheet\", rows=100, cols=20)\n",
    "table_name"
   ]
  },
  {
   "cell_type": "code",
   "execution_count": 62,
   "id": "af1a79de",
   "metadata": {},
   "outputs": [
    {
     "data": {
      "text/plain": [
       "<Worksheet 'master4' id:821581439>"
      ]
     },
     "execution_count": 62,
     "metadata": {},
     "output_type": "execute_result"
    }
   ],
   "source": [
    "sheet = 'master4'\n",
    "\n",
    "d2g.upload(\n",
    "    df, \n",
    "    gfile='1JGPelh8YJCZgXhyq2aFiwnEmC03s0vHpnD-2xvopp8U', \n",
    "    wks_name=sheet, \n",
    "    credentials=credentials,\n",
    "    col_names=True, \n",
    "    row_names=True, \n",
    "    clean= False, \n",
    "    start_cell='A1')"
   ]
  },
  {
   "cell_type": "code",
   "execution_count": 63,
   "id": "2b8f5071",
   "metadata": {},
   "outputs": [
    {
     "data": {
      "text/plain": [
       "<module 'df2gspread.df2gspread' from 'c:\\\\Users\\\\Omar\\\\AppData\\\\Local\\\\Programs\\\\Python\\\\Python310\\\\lib\\\\site-packages\\\\df2gspread\\\\df2gspread.py'>"
      ]
     },
     "execution_count": 63,
     "metadata": {},
     "output_type": "execute_result"
    }
   ],
   "source": [
    "d2g"
   ]
  },
  {
   "cell_type": "code",
   "execution_count": null,
   "id": "16f1b563",
   "metadata": {},
   "outputs": [],
   "source": []
  },
  {
   "cell_type": "markdown",
   "id": "5be63b9d",
   "metadata": {},
   "source": [
    "## Yandex Metrix"
   ]
  },
  {
   "cell_type": "code",
   "execution_count": null,
   "id": "b561fff2",
   "metadata": {},
   "outputs": [],
   "source": [
    "import json"
   ]
  },
  {
   "cell_type": "code",
   "execution_count": null,
   "id": "db916942",
   "metadata": {},
   "outputs": [],
   "source": []
  }
 ],
 "metadata": {
  "kernelspec": {
   "display_name": "Python 3 (ipykernel)",
   "language": "python",
   "name": "python3"
  },
  "language_info": {
   "codemirror_mode": {
    "name": "ipython",
    "version": 3
   },
   "file_extension": ".py",
   "mimetype": "text/x-python",
   "name": "python",
   "nbconvert_exporter": "python",
   "pygments_lexer": "ipython3",
   "version": "3.10.4"
  },
  "vscode": {
   "interpreter": {
    "hash": "946bca45cd194ef20b20aa2df2b6857f6c4def631856f59c9b0da3a792eb3375"
   }
  },
  "widgets": {
   "application/vnd.jupyter.widget-state+json": {
    "state": {},
    "version_major": 2,
    "version_minor": 0
   }
  }
 },
 "nbformat": 4,
 "nbformat_minor": 5
}
