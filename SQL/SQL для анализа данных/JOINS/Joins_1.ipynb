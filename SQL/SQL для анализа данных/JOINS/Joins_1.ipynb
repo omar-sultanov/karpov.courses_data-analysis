{
 "cells": [
  {
   "cell_type": "code",
   "execution_count": 1,
   "id": "20912da0-9b05-4129-bdba-53e247ae7d05",
   "metadata": {},
   "outputs": [],
   "source": [
    "import pandas as pd\n",
    "import sqlite3"
   ]
  },
  {
   "cell_type": "code",
   "execution_count": 2,
   "id": "c41cb37d-8ddb-4e9b-80bd-f4f52b87e828",
   "metadata": {},
   "outputs": [],
   "source": [
    "con = sqlite3.connect('db')"
   ]
  },
  {
   "cell_type": "code",
   "execution_count": 3,
   "id": "eb2f9066-fbcc-405f-b6e6-52a4c0089ac3",
   "metadata": {},
   "outputs": [],
   "source": [
    "users = pd.DataFrame({'id':[1,2,3], 'name':['Nick', 'Zahir', 'Amin']})\n",
    "items = pd.DataFrame({'user_id':[1,3,3], 'item_name':['bread', 'milk', 'vine'], 'value':[22, 30, 50]})"
   ]
  },
  {
   "cell_type": "code",
   "execution_count": 4,
   "id": "385bebe1-e5b7-4e9e-b483-75b10195c81a",
   "metadata": {},
   "outputs": [
    {
     "data": {
      "text/plain": [
       "3"
      ]
     },
     "execution_count": 4,
     "metadata": {},
     "output_type": "execute_result"
    }
   ],
   "source": [
    "users.to_sql('users', con, index=False, if_exists='replace')\n",
    "items.to_sql('items', con, index=False, if_exists='replace')"
   ]
  },
  {
   "cell_type": "code",
   "execution_count": 5,
   "id": "0bb52e3a-995a-49d9-a9a8-e77a38eac9fe",
   "metadata": {},
   "outputs": [],
   "source": [
    "def select(sql):\n",
    "    return pd.read_sql(sql, con)"
   ]
  },
  {
   "cell_type": "code",
   "execution_count": 6,
   "id": "a1f1c496-fcd6-4b43-966d-1c41c59e2e9b",
   "metadata": {},
   "outputs": [],
   "source": [
    "sql = '''select * from users t'''"
   ]
  },
  {
   "cell_type": "code",
   "execution_count": 7,
   "id": "4235cb4f-c21a-4843-88de-dc301c496bb1",
   "metadata": {},
   "outputs": [
    {
     "data": {
      "text/html": [
       "<div>\n",
       "<style scoped>\n",
       "    .dataframe tbody tr th:only-of-type {\n",
       "        vertical-align: middle;\n",
       "    }\n",
       "\n",
       "    .dataframe tbody tr th {\n",
       "        vertical-align: top;\n",
       "    }\n",
       "\n",
       "    .dataframe thead th {\n",
       "        text-align: right;\n",
       "    }\n",
       "</style>\n",
       "<table border=\"1\" class=\"dataframe\">\n",
       "  <thead>\n",
       "    <tr style=\"text-align: right;\">\n",
       "      <th></th>\n",
       "      <th>id</th>\n",
       "      <th>name</th>\n",
       "    </tr>\n",
       "  </thead>\n",
       "  <tbody>\n",
       "    <tr>\n",
       "      <th>0</th>\n",
       "      <td>1</td>\n",
       "      <td>Nick</td>\n",
       "    </tr>\n",
       "    <tr>\n",
       "      <th>1</th>\n",
       "      <td>2</td>\n",
       "      <td>Zahir</td>\n",
       "    </tr>\n",
       "    <tr>\n",
       "      <th>2</th>\n",
       "      <td>3</td>\n",
       "      <td>Amin</td>\n",
       "    </tr>\n",
       "  </tbody>\n",
       "</table>\n",
       "</div>"
      ],
      "text/plain": [
       "   id   name\n",
       "0   1   Nick\n",
       "1   2  Zahir\n",
       "2   3   Amin"
      ]
     },
     "execution_count": 7,
     "metadata": {},
     "output_type": "execute_result"
    }
   ],
   "source": [
    "select(sql)"
   ]
  },
  {
   "cell_type": "code",
   "execution_count": 8,
   "id": "f4ae62a6-9fff-40d7-af66-90c3708ceeb4",
   "metadata": {},
   "outputs": [],
   "source": [
    "sql = '''select * from items t'''"
   ]
  },
  {
   "cell_type": "code",
   "execution_count": 9,
   "id": "fbc6c18d-783a-4ab5-9dcd-983dba666a2d",
   "metadata": {},
   "outputs": [
    {
     "data": {
      "text/html": [
       "<div>\n",
       "<style scoped>\n",
       "    .dataframe tbody tr th:only-of-type {\n",
       "        vertical-align: middle;\n",
       "    }\n",
       "\n",
       "    .dataframe tbody tr th {\n",
       "        vertical-align: top;\n",
       "    }\n",
       "\n",
       "    .dataframe thead th {\n",
       "        text-align: right;\n",
       "    }\n",
       "</style>\n",
       "<table border=\"1\" class=\"dataframe\">\n",
       "  <thead>\n",
       "    <tr style=\"text-align: right;\">\n",
       "      <th></th>\n",
       "      <th>user_id</th>\n",
       "      <th>item_name</th>\n",
       "      <th>value</th>\n",
       "    </tr>\n",
       "  </thead>\n",
       "  <tbody>\n",
       "    <tr>\n",
       "      <th>0</th>\n",
       "      <td>1</td>\n",
       "      <td>bread</td>\n",
       "      <td>22</td>\n",
       "    </tr>\n",
       "    <tr>\n",
       "      <th>1</th>\n",
       "      <td>3</td>\n",
       "      <td>milk</td>\n",
       "      <td>30</td>\n",
       "    </tr>\n",
       "    <tr>\n",
       "      <th>2</th>\n",
       "      <td>3</td>\n",
       "      <td>vine</td>\n",
       "      <td>50</td>\n",
       "    </tr>\n",
       "  </tbody>\n",
       "</table>\n",
       "</div>"
      ],
      "text/plain": [
       "   user_id item_name  value\n",
       "0        1     bread     22\n",
       "1        3      milk     30\n",
       "2        3      vine     50"
      ]
     },
     "execution_count": 9,
     "metadata": {},
     "output_type": "execute_result"
    }
   ],
   "source": [
    "select(sql)"
   ]
  },
  {
   "cell_type": "code",
   "execution_count": 10,
   "id": "e205730a-3f85-470f-bc7f-c3ec82f757aa",
   "metadata": {},
   "outputs": [],
   "source": [
    "sql = '''select u.*, i.item_name from users as u\n",
    "left join items as i on u.id = i.user_id'''"
   ]
  },
  {
   "cell_type": "code",
   "execution_count": 11,
   "id": "978a74f0-aaed-4c0e-9519-23725644ed19",
   "metadata": {},
   "outputs": [
    {
     "data": {
      "text/html": [
       "<div>\n",
       "<style scoped>\n",
       "    .dataframe tbody tr th:only-of-type {\n",
       "        vertical-align: middle;\n",
       "    }\n",
       "\n",
       "    .dataframe tbody tr th {\n",
       "        vertical-align: top;\n",
       "    }\n",
       "\n",
       "    .dataframe thead th {\n",
       "        text-align: right;\n",
       "    }\n",
       "</style>\n",
       "<table border=\"1\" class=\"dataframe\">\n",
       "  <thead>\n",
       "    <tr style=\"text-align: right;\">\n",
       "      <th></th>\n",
       "      <th>id</th>\n",
       "      <th>name</th>\n",
       "      <th>item_name</th>\n",
       "    </tr>\n",
       "  </thead>\n",
       "  <tbody>\n",
       "    <tr>\n",
       "      <th>0</th>\n",
       "      <td>1</td>\n",
       "      <td>Nick</td>\n",
       "      <td>bread</td>\n",
       "    </tr>\n",
       "    <tr>\n",
       "      <th>1</th>\n",
       "      <td>2</td>\n",
       "      <td>Zahir</td>\n",
       "      <td>None</td>\n",
       "    </tr>\n",
       "    <tr>\n",
       "      <th>2</th>\n",
       "      <td>3</td>\n",
       "      <td>Amin</td>\n",
       "      <td>milk</td>\n",
       "    </tr>\n",
       "    <tr>\n",
       "      <th>3</th>\n",
       "      <td>3</td>\n",
       "      <td>Amin</td>\n",
       "      <td>vine</td>\n",
       "    </tr>\n",
       "  </tbody>\n",
       "</table>\n",
       "</div>"
      ],
      "text/plain": [
       "   id   name item_name\n",
       "0   1   Nick     bread\n",
       "1   2  Zahir      None\n",
       "2   3   Amin      milk\n",
       "3   3   Amin      vine"
      ]
     },
     "execution_count": 11,
     "metadata": {},
     "output_type": "execute_result"
    }
   ],
   "source": [
    "select(sql)"
   ]
  },
  {
   "cell_type": "code",
   "execution_count": 12,
   "id": "8ef07e73-92b7-4994-b14e-c13c9dcfb789",
   "metadata": {},
   "outputs": [],
   "source": [
    "users = pd.DataFrame({'id':[1,2,3], 'name':['Nick', 'Zahir', 'Amin'],\n",
    "                     'victory':[2,3,33]})"
   ]
  },
  {
   "cell_type": "code",
   "execution_count": 13,
   "id": "3df1d4ca-c86c-45ac-9dcb-9660bc748610",
   "metadata": {},
   "outputs": [
    {
     "data": {
      "text/plain": [
       "3"
      ]
     },
     "execution_count": 13,
     "metadata": {},
     "output_type": "execute_result"
    }
   ],
   "source": [
    "users.to_sql('users', con, index=False, if_exists='replace')"
   ]
  },
  {
   "cell_type": "code",
   "execution_count": 14,
   "id": "cfad7bff-782b-4ac3-b3c5-0a3e6bcaeaf0",
   "metadata": {},
   "outputs": [],
   "source": [
    "sql = '''select * from users'''"
   ]
  },
  {
   "cell_type": "code",
   "execution_count": 15,
   "id": "082f15f5-3ea3-4e9b-82db-c5defd17349c",
   "metadata": {},
   "outputs": [
    {
     "data": {
      "text/html": [
       "<div>\n",
       "<style scoped>\n",
       "    .dataframe tbody tr th:only-of-type {\n",
       "        vertical-align: middle;\n",
       "    }\n",
       "\n",
       "    .dataframe tbody tr th {\n",
       "        vertical-align: top;\n",
       "    }\n",
       "\n",
       "    .dataframe thead th {\n",
       "        text-align: right;\n",
       "    }\n",
       "</style>\n",
       "<table border=\"1\" class=\"dataframe\">\n",
       "  <thead>\n",
       "    <tr style=\"text-align: right;\">\n",
       "      <th></th>\n",
       "      <th>id</th>\n",
       "      <th>name</th>\n",
       "      <th>victory</th>\n",
       "    </tr>\n",
       "  </thead>\n",
       "  <tbody>\n",
       "    <tr>\n",
       "      <th>0</th>\n",
       "      <td>1</td>\n",
       "      <td>Nick</td>\n",
       "      <td>2</td>\n",
       "    </tr>\n",
       "    <tr>\n",
       "      <th>1</th>\n",
       "      <td>2</td>\n",
       "      <td>Zahir</td>\n",
       "      <td>3</td>\n",
       "    </tr>\n",
       "    <tr>\n",
       "      <th>2</th>\n",
       "      <td>3</td>\n",
       "      <td>Amin</td>\n",
       "      <td>33</td>\n",
       "    </tr>\n",
       "  </tbody>\n",
       "</table>\n",
       "</div>"
      ],
      "text/plain": [
       "   id   name  victory\n",
       "0   1   Nick        2\n",
       "1   2  Zahir        3\n",
       "2   3   Amin       33"
      ]
     },
     "execution_count": 15,
     "metadata": {},
     "output_type": "execute_result"
    }
   ],
   "source": [
    "select(sql)"
   ]
  },
  {
   "cell_type": "code",
   "execution_count": 16,
   "id": "eabdbc42-230c-491b-a575-3b17bdfe773d",
   "metadata": {},
   "outputs": [],
   "source": [
    "sql = '''select * from items as i'''"
   ]
  },
  {
   "cell_type": "code",
   "execution_count": 17,
   "id": "b426a92b-7f15-4436-b396-bf56e6c282ff",
   "metadata": {},
   "outputs": [
    {
     "data": {
      "text/html": [
       "<div>\n",
       "<style scoped>\n",
       "    .dataframe tbody tr th:only-of-type {\n",
       "        vertical-align: middle;\n",
       "    }\n",
       "\n",
       "    .dataframe tbody tr th {\n",
       "        vertical-align: top;\n",
       "    }\n",
       "\n",
       "    .dataframe thead th {\n",
       "        text-align: right;\n",
       "    }\n",
       "</style>\n",
       "<table border=\"1\" class=\"dataframe\">\n",
       "  <thead>\n",
       "    <tr style=\"text-align: right;\">\n",
       "      <th></th>\n",
       "      <th>user_id</th>\n",
       "      <th>item_name</th>\n",
       "      <th>value</th>\n",
       "    </tr>\n",
       "  </thead>\n",
       "  <tbody>\n",
       "    <tr>\n",
       "      <th>0</th>\n",
       "      <td>1</td>\n",
       "      <td>bread</td>\n",
       "      <td>22</td>\n",
       "    </tr>\n",
       "    <tr>\n",
       "      <th>1</th>\n",
       "      <td>3</td>\n",
       "      <td>milk</td>\n",
       "      <td>30</td>\n",
       "    </tr>\n",
       "    <tr>\n",
       "      <th>2</th>\n",
       "      <td>3</td>\n",
       "      <td>vine</td>\n",
       "      <td>50</td>\n",
       "    </tr>\n",
       "  </tbody>\n",
       "</table>\n",
       "</div>"
      ],
      "text/plain": [
       "   user_id item_name  value\n",
       "0        1     bread     22\n",
       "1        3      milk     30\n",
       "2        3      vine     50"
      ]
     },
     "execution_count": 17,
     "metadata": {},
     "output_type": "execute_result"
    }
   ],
   "source": [
    "select(sql)"
   ]
  },
  {
   "cell_type": "code",
   "execution_count": 18,
   "id": "29823e01-f28f-4e6b-b48b-31b92c7b3ef3",
   "metadata": {},
   "outputs": [],
   "source": [
    "sql = '''select u.id, u.name, u.victory,\n",
    "count(i.item_name) as item_cnt,\n",
    "coalesce(sum(i.value),0) as value_sum\n",
    "from users as u\n",
    "left join items as i on u.id = i.user_id\n",
    "group by u.id, u.name, u.victory\n",
    "'''"
   ]
  },
  {
   "cell_type": "code",
   "execution_count": 19,
   "id": "09985e5e-3cf0-4dcb-a9b1-5d290007e151",
   "metadata": {},
   "outputs": [
    {
     "data": {
      "text/html": [
       "<div>\n",
       "<style scoped>\n",
       "    .dataframe tbody tr th:only-of-type {\n",
       "        vertical-align: middle;\n",
       "    }\n",
       "\n",
       "    .dataframe tbody tr th {\n",
       "        vertical-align: top;\n",
       "    }\n",
       "\n",
       "    .dataframe thead th {\n",
       "        text-align: right;\n",
       "    }\n",
       "</style>\n",
       "<table border=\"1\" class=\"dataframe\">\n",
       "  <thead>\n",
       "    <tr style=\"text-align: right;\">\n",
       "      <th></th>\n",
       "      <th>id</th>\n",
       "      <th>name</th>\n",
       "      <th>victory</th>\n",
       "      <th>item_cnt</th>\n",
       "      <th>value_sum</th>\n",
       "    </tr>\n",
       "  </thead>\n",
       "  <tbody>\n",
       "    <tr>\n",
       "      <th>0</th>\n",
       "      <td>1</td>\n",
       "      <td>Nick</td>\n",
       "      <td>2</td>\n",
       "      <td>1</td>\n",
       "      <td>22</td>\n",
       "    </tr>\n",
       "    <tr>\n",
       "      <th>1</th>\n",
       "      <td>2</td>\n",
       "      <td>Zahir</td>\n",
       "      <td>3</td>\n",
       "      <td>0</td>\n",
       "      <td>0</td>\n",
       "    </tr>\n",
       "    <tr>\n",
       "      <th>2</th>\n",
       "      <td>3</td>\n",
       "      <td>Amin</td>\n",
       "      <td>33</td>\n",
       "      <td>2</td>\n",
       "      <td>80</td>\n",
       "    </tr>\n",
       "  </tbody>\n",
       "</table>\n",
       "</div>"
      ],
      "text/plain": [
       "   id   name  victory  item_cnt  value_sum\n",
       "0   1   Nick        2         1         22\n",
       "1   2  Zahir        3         0          0\n",
       "2   3   Amin       33         2         80"
      ]
     },
     "execution_count": 19,
     "metadata": {},
     "output_type": "execute_result"
    }
   ],
   "source": [
    "select(sql)"
   ]
  },
  {
   "cell_type": "code",
   "execution_count": 20,
   "id": "ee508de7-85e1-4ce4-b12c-ea46550d0a0e",
   "metadata": {},
   "outputs": [],
   "source": [
    "sql = '''\n",
    "        with item_agg as (\n",
    "        select t.user_id,\n",
    "        count(t.item_name) as item_cnt,\n",
    "        sum(t.value) as value_sum\n",
    "        from items as t\n",
    "        group by t.user_id)\n",
    "        \n",
    "        select t.id, t.name, t.victory,\n",
    "        coalesce(i.item_cnt, 0),\n",
    "        coalesce(i.value_sum, 0)\n",
    "        from users as t\n",
    "        left join item_agg as i on user_id == id \n",
    "        '''"
   ]
  },
  {
   "cell_type": "code",
   "execution_count": 21,
   "id": "7c5e248f-d49a-4c2b-9e7e-a3307ee9d416",
   "metadata": {},
   "outputs": [
    {
     "data": {
      "text/html": [
       "<div>\n",
       "<style scoped>\n",
       "    .dataframe tbody tr th:only-of-type {\n",
       "        vertical-align: middle;\n",
       "    }\n",
       "\n",
       "    .dataframe tbody tr th {\n",
       "        vertical-align: top;\n",
       "    }\n",
       "\n",
       "    .dataframe thead th {\n",
       "        text-align: right;\n",
       "    }\n",
       "</style>\n",
       "<table border=\"1\" class=\"dataframe\">\n",
       "  <thead>\n",
       "    <tr style=\"text-align: right;\">\n",
       "      <th></th>\n",
       "      <th>id</th>\n",
       "      <th>name</th>\n",
       "      <th>victory</th>\n",
       "      <th>coalesce(i.item_cnt, 0)</th>\n",
       "      <th>coalesce(i.value_sum, 0)</th>\n",
       "    </tr>\n",
       "  </thead>\n",
       "  <tbody>\n",
       "    <tr>\n",
       "      <th>0</th>\n",
       "      <td>1</td>\n",
       "      <td>Nick</td>\n",
       "      <td>2</td>\n",
       "      <td>1</td>\n",
       "      <td>22</td>\n",
       "    </tr>\n",
       "    <tr>\n",
       "      <th>1</th>\n",
       "      <td>2</td>\n",
       "      <td>Zahir</td>\n",
       "      <td>3</td>\n",
       "      <td>0</td>\n",
       "      <td>0</td>\n",
       "    </tr>\n",
       "    <tr>\n",
       "      <th>2</th>\n",
       "      <td>3</td>\n",
       "      <td>Amin</td>\n",
       "      <td>33</td>\n",
       "      <td>2</td>\n",
       "      <td>80</td>\n",
       "    </tr>\n",
       "  </tbody>\n",
       "</table>\n",
       "</div>"
      ],
      "text/plain": [
       "   id   name  victory  coalesce(i.item_cnt, 0)  coalesce(i.value_sum, 0)\n",
       "0   1   Nick        2                        1                        22\n",
       "1   2  Zahir        3                        0                         0\n",
       "2   3   Amin       33                        2                        80"
      ]
     },
     "execution_count": 21,
     "metadata": {},
     "output_type": "execute_result"
    }
   ],
   "source": [
    "select(sql)"
   ]
  },
  {
   "cell_type": "code",
   "execution_count": 22,
   "id": "755baef8-7617-449e-84bd-39b89664d4e4",
   "metadata": {},
   "outputs": [],
   "source": [
    "# sql = '''select * from users t, items i\n",
    "# where t.id = i.user_id''' \n",
    "\n",
    "# старая версия join-а сейчас не используются\n",
    "# еще есть using - это используются места ON но если id есть у обоих таблицах"
   ]
  },
  {
   "cell_type": "code",
   "execution_count": 23,
   "id": "96626deb-589c-4386-8459-b0375c8e262e",
   "metadata": {},
   "outputs": [
    {
     "data": {
      "text/html": [
       "<div>\n",
       "<style scoped>\n",
       "    .dataframe tbody tr th:only-of-type {\n",
       "        vertical-align: middle;\n",
       "    }\n",
       "\n",
       "    .dataframe tbody tr th {\n",
       "        vertical-align: top;\n",
       "    }\n",
       "\n",
       "    .dataframe thead th {\n",
       "        text-align: right;\n",
       "    }\n",
       "</style>\n",
       "<table border=\"1\" class=\"dataframe\">\n",
       "  <thead>\n",
       "    <tr style=\"text-align: right;\">\n",
       "      <th></th>\n",
       "      <th>id</th>\n",
       "      <th>name</th>\n",
       "      <th>victory</th>\n",
       "      <th>coalesce(i.item_cnt, 0)</th>\n",
       "      <th>coalesce(i.value_sum, 0)</th>\n",
       "    </tr>\n",
       "  </thead>\n",
       "  <tbody>\n",
       "    <tr>\n",
       "      <th>0</th>\n",
       "      <td>1</td>\n",
       "      <td>Nick</td>\n",
       "      <td>2</td>\n",
       "      <td>1</td>\n",
       "      <td>22</td>\n",
       "    </tr>\n",
       "    <tr>\n",
       "      <th>1</th>\n",
       "      <td>2</td>\n",
       "      <td>Zahir</td>\n",
       "      <td>3</td>\n",
       "      <td>0</td>\n",
       "      <td>0</td>\n",
       "    </tr>\n",
       "    <tr>\n",
       "      <th>2</th>\n",
       "      <td>3</td>\n",
       "      <td>Amin</td>\n",
       "      <td>33</td>\n",
       "      <td>2</td>\n",
       "      <td>80</td>\n",
       "    </tr>\n",
       "  </tbody>\n",
       "</table>\n",
       "</div>"
      ],
      "text/plain": [
       "   id   name  victory  coalesce(i.item_cnt, 0)  coalesce(i.value_sum, 0)\n",
       "0   1   Nick        2                        1                        22\n",
       "1   2  Zahir        3                        0                         0\n",
       "2   3   Amin       33                        2                        80"
      ]
     },
     "execution_count": 23,
     "metadata": {},
     "output_type": "execute_result"
    }
   ],
   "source": [
    "select(sql)"
   ]
  },
  {
   "cell_type": "code",
   "execution_count": 24,
   "id": "8bb7c324-5286-4a67-9beb-3035454a3b90",
   "metadata": {},
   "outputs": [],
   "source": [
    "items = pd.DataFrame({'user_id':[1,3,3,4], 'item_name':['bread', 'milk', 'vine', 'fruits'], 'value':[22, 30, 5, 59]})"
   ]
  },
  {
   "cell_type": "code",
   "execution_count": 29,
   "id": "ac720d62-92b6-408a-9548-e559ef5953f0",
   "metadata": {},
   "outputs": [],
   "source": [
    "sql = '''select * from items'''"
   ]
  },
  {
   "cell_type": "code",
   "execution_count": 30,
   "id": "83ef980d-ea04-4bd7-af4e-cc9e86e5ad05",
   "metadata": {},
   "outputs": [
    {
     "data": {
      "text/html": [
       "<div>\n",
       "<style scoped>\n",
       "    .dataframe tbody tr th:only-of-type {\n",
       "        vertical-align: middle;\n",
       "    }\n",
       "\n",
       "    .dataframe tbody tr th {\n",
       "        vertical-align: top;\n",
       "    }\n",
       "\n",
       "    .dataframe thead th {\n",
       "        text-align: right;\n",
       "    }\n",
       "</style>\n",
       "<table border=\"1\" class=\"dataframe\">\n",
       "  <thead>\n",
       "    <tr style=\"text-align: right;\">\n",
       "      <th></th>\n",
       "      <th>user_id</th>\n",
       "      <th>item_name</th>\n",
       "      <th>value</th>\n",
       "    </tr>\n",
       "  </thead>\n",
       "  <tbody>\n",
       "    <tr>\n",
       "      <th>0</th>\n",
       "      <td>1</td>\n",
       "      <td>bread</td>\n",
       "      <td>22</td>\n",
       "    </tr>\n",
       "    <tr>\n",
       "      <th>1</th>\n",
       "      <td>3</td>\n",
       "      <td>milk</td>\n",
       "      <td>30</td>\n",
       "    </tr>\n",
       "    <tr>\n",
       "      <th>2</th>\n",
       "      <td>3</td>\n",
       "      <td>vine</td>\n",
       "      <td>50</td>\n",
       "    </tr>\n",
       "  </tbody>\n",
       "</table>\n",
       "</div>"
      ],
      "text/plain": [
       "   user_id item_name  value\n",
       "0        1     bread     22\n",
       "1        3      milk     30\n",
       "2        3      vine     50"
      ]
     },
     "execution_count": 30,
     "metadata": {},
     "output_type": "execute_result"
    }
   ],
   "source": [
    "select(sql)"
   ]
  },
  {
   "cell_type": "code",
   "execution_count": 31,
   "id": "c3ea4a2f-51c2-4449-8771-5891a28e8c0f",
   "metadata": {},
   "outputs": [],
   "source": [
    "sql = '''select * from users'''"
   ]
  },
  {
   "cell_type": "code",
   "execution_count": 32,
   "id": "7fe8ed7b-e382-43fa-886a-a891a1016ad8",
   "metadata": {},
   "outputs": [
    {
     "data": {
      "text/html": [
       "<div>\n",
       "<style scoped>\n",
       "    .dataframe tbody tr th:only-of-type {\n",
       "        vertical-align: middle;\n",
       "    }\n",
       "\n",
       "    .dataframe tbody tr th {\n",
       "        vertical-align: top;\n",
       "    }\n",
       "\n",
       "    .dataframe thead th {\n",
       "        text-align: right;\n",
       "    }\n",
       "</style>\n",
       "<table border=\"1\" class=\"dataframe\">\n",
       "  <thead>\n",
       "    <tr style=\"text-align: right;\">\n",
       "      <th></th>\n",
       "      <th>id</th>\n",
       "      <th>name</th>\n",
       "      <th>victory</th>\n",
       "    </tr>\n",
       "  </thead>\n",
       "  <tbody>\n",
       "    <tr>\n",
       "      <th>0</th>\n",
       "      <td>1</td>\n",
       "      <td>Nick</td>\n",
       "      <td>2</td>\n",
       "    </tr>\n",
       "    <tr>\n",
       "      <th>1</th>\n",
       "      <td>2</td>\n",
       "      <td>Zahir</td>\n",
       "      <td>3</td>\n",
       "    </tr>\n",
       "    <tr>\n",
       "      <th>2</th>\n",
       "      <td>3</td>\n",
       "      <td>Amin</td>\n",
       "      <td>33</td>\n",
       "    </tr>\n",
       "  </tbody>\n",
       "</table>\n",
       "</div>"
      ],
      "text/plain": [
       "   id   name  victory\n",
       "0   1   Nick        2\n",
       "1   2  Zahir        3\n",
       "2   3   Amin       33"
      ]
     },
     "execution_count": 32,
     "metadata": {},
     "output_type": "execute_result"
    }
   ],
   "source": [
    "select(sql)"
   ]
  },
  {
   "cell_type": "code",
   "execution_count": 41,
   "id": "47f97c13-58f9-4cb0-af5c-bf1192fa62e7",
   "metadata": {},
   "outputs": [],
   "source": [
    "sql = '''select t.*, i.* from users as t\n",
    "        left join items as i on t.id = i.user_id'''"
   ]
  },
  {
   "cell_type": "code",
   "execution_count": 42,
   "id": "ece206f6-1140-4871-9c48-b8a32f008b71",
   "metadata": {},
   "outputs": [
    {
     "data": {
      "text/html": [
       "<div>\n",
       "<style scoped>\n",
       "    .dataframe tbody tr th:only-of-type {\n",
       "        vertical-align: middle;\n",
       "    }\n",
       "\n",
       "    .dataframe tbody tr th {\n",
       "        vertical-align: top;\n",
       "    }\n",
       "\n",
       "    .dataframe thead th {\n",
       "        text-align: right;\n",
       "    }\n",
       "</style>\n",
       "<table border=\"1\" class=\"dataframe\">\n",
       "  <thead>\n",
       "    <tr style=\"text-align: right;\">\n",
       "      <th></th>\n",
       "      <th>id</th>\n",
       "      <th>name</th>\n",
       "      <th>victory</th>\n",
       "      <th>user_id</th>\n",
       "      <th>item_name</th>\n",
       "      <th>value</th>\n",
       "    </tr>\n",
       "  </thead>\n",
       "  <tbody>\n",
       "    <tr>\n",
       "      <th>0</th>\n",
       "      <td>1</td>\n",
       "      <td>Nick</td>\n",
       "      <td>2</td>\n",
       "      <td>1.0</td>\n",
       "      <td>bread</td>\n",
       "      <td>22.0</td>\n",
       "    </tr>\n",
       "    <tr>\n",
       "      <th>1</th>\n",
       "      <td>2</td>\n",
       "      <td>Zahir</td>\n",
       "      <td>3</td>\n",
       "      <td>NaN</td>\n",
       "      <td>None</td>\n",
       "      <td>NaN</td>\n",
       "    </tr>\n",
       "    <tr>\n",
       "      <th>2</th>\n",
       "      <td>3</td>\n",
       "      <td>Amin</td>\n",
       "      <td>33</td>\n",
       "      <td>3.0</td>\n",
       "      <td>milk</td>\n",
       "      <td>30.0</td>\n",
       "    </tr>\n",
       "    <tr>\n",
       "      <th>3</th>\n",
       "      <td>3</td>\n",
       "      <td>Amin</td>\n",
       "      <td>33</td>\n",
       "      <td>3.0</td>\n",
       "      <td>vine</td>\n",
       "      <td>50.0</td>\n",
       "    </tr>\n",
       "  </tbody>\n",
       "</table>\n",
       "</div>"
      ],
      "text/plain": [
       "   id   name  victory  user_id item_name  value\n",
       "0   1   Nick        2      1.0     bread   22.0\n",
       "1   2  Zahir        3      NaN      None    NaN\n",
       "2   3   Amin       33      3.0      milk   30.0\n",
       "3   3   Amin       33      3.0      vine   50.0"
      ]
     },
     "execution_count": 42,
     "metadata": {},
     "output_type": "execute_result"
    }
   ],
   "source": [
    "select(sql)"
   ]
  },
  {
   "cell_type": "code",
   "execution_count": 46,
   "id": "82735688-f0d2-401b-9a38-7f32c13ac242",
   "metadata": {},
   "outputs": [],
   "source": [
    "sql = '''select t.*, i.* from items as t\n",
    "        left join users as i on t.user_id = i.id '''"
   ]
  },
  {
   "cell_type": "code",
   "execution_count": 47,
   "id": "1fbb32f2-6896-4119-bfb0-d55d4fcf400a",
   "metadata": {},
   "outputs": [
    {
     "data": {
      "text/html": [
       "<div>\n",
       "<style scoped>\n",
       "    .dataframe tbody tr th:only-of-type {\n",
       "        vertical-align: middle;\n",
       "    }\n",
       "\n",
       "    .dataframe tbody tr th {\n",
       "        vertical-align: top;\n",
       "    }\n",
       "\n",
       "    .dataframe thead th {\n",
       "        text-align: right;\n",
       "    }\n",
       "</style>\n",
       "<table border=\"1\" class=\"dataframe\">\n",
       "  <thead>\n",
       "    <tr style=\"text-align: right;\">\n",
       "      <th></th>\n",
       "      <th>user_id</th>\n",
       "      <th>item_name</th>\n",
       "      <th>value</th>\n",
       "      <th>id</th>\n",
       "      <th>name</th>\n",
       "      <th>victory</th>\n",
       "    </tr>\n",
       "  </thead>\n",
       "  <tbody>\n",
       "    <tr>\n",
       "      <th>0</th>\n",
       "      <td>1</td>\n",
       "      <td>bread</td>\n",
       "      <td>22</td>\n",
       "      <td>1</td>\n",
       "      <td>Nick</td>\n",
       "      <td>2</td>\n",
       "    </tr>\n",
       "    <tr>\n",
       "      <th>1</th>\n",
       "      <td>3</td>\n",
       "      <td>milk</td>\n",
       "      <td>30</td>\n",
       "      <td>3</td>\n",
       "      <td>Amin</td>\n",
       "      <td>33</td>\n",
       "    </tr>\n",
       "    <tr>\n",
       "      <th>2</th>\n",
       "      <td>3</td>\n",
       "      <td>vine</td>\n",
       "      <td>50</td>\n",
       "      <td>3</td>\n",
       "      <td>Amin</td>\n",
       "      <td>33</td>\n",
       "    </tr>\n",
       "  </tbody>\n",
       "</table>\n",
       "</div>"
      ],
      "text/plain": [
       "   user_id item_name  value  id  name  victory\n",
       "0        1     bread     22   1  Nick        2\n",
       "1        3      milk     30   3  Amin       33\n",
       "2        3      vine     50   3  Amin       33"
      ]
     },
     "execution_count": 47,
     "metadata": {},
     "output_type": "execute_result"
    }
   ],
   "source": [
    "select(sql)"
   ]
  },
  {
   "cell_type": "code",
   "execution_count": 50,
   "id": "107ddb9b-45a8-41be-b8fc-979f6c5feb0b",
   "metadata": {},
   "outputs": [],
   "source": [
    "sql = '''select * from items as t\n",
    "        full join users as i on t.user_id = i.id '''"
   ]
  },
  {
   "cell_type": "code",
   "execution_count": 51,
   "id": "b18d8a59-90aa-47da-adb2-fe10669bd7a1",
   "metadata": {},
   "outputs": [
    {
     "data": {
      "text/html": [
       "<div>\n",
       "<style scoped>\n",
       "    .dataframe tbody tr th:only-of-type {\n",
       "        vertical-align: middle;\n",
       "    }\n",
       "\n",
       "    .dataframe tbody tr th {\n",
       "        vertical-align: top;\n",
       "    }\n",
       "\n",
       "    .dataframe thead th {\n",
       "        text-align: right;\n",
       "    }\n",
       "</style>\n",
       "<table border=\"1\" class=\"dataframe\">\n",
       "  <thead>\n",
       "    <tr style=\"text-align: right;\">\n",
       "      <th></th>\n",
       "      <th>user_id</th>\n",
       "      <th>item_name</th>\n",
       "      <th>value</th>\n",
       "      <th>id</th>\n",
       "      <th>name</th>\n",
       "      <th>victory</th>\n",
       "    </tr>\n",
       "  </thead>\n",
       "  <tbody>\n",
       "    <tr>\n",
       "      <th>0</th>\n",
       "      <td>1.0</td>\n",
       "      <td>bread</td>\n",
       "      <td>22.0</td>\n",
       "      <td>1</td>\n",
       "      <td>Nick</td>\n",
       "      <td>2</td>\n",
       "    </tr>\n",
       "    <tr>\n",
       "      <th>1</th>\n",
       "      <td>3.0</td>\n",
       "      <td>milk</td>\n",
       "      <td>30.0</td>\n",
       "      <td>3</td>\n",
       "      <td>Amin</td>\n",
       "      <td>33</td>\n",
       "    </tr>\n",
       "    <tr>\n",
       "      <th>2</th>\n",
       "      <td>3.0</td>\n",
       "      <td>vine</td>\n",
       "      <td>50.0</td>\n",
       "      <td>3</td>\n",
       "      <td>Amin</td>\n",
       "      <td>33</td>\n",
       "    </tr>\n",
       "    <tr>\n",
       "      <th>3</th>\n",
       "      <td>NaN</td>\n",
       "      <td>None</td>\n",
       "      <td>NaN</td>\n",
       "      <td>2</td>\n",
       "      <td>Zahir</td>\n",
       "      <td>3</td>\n",
       "    </tr>\n",
       "  </tbody>\n",
       "</table>\n",
       "</div>"
      ],
      "text/plain": [
       "   user_id item_name  value  id   name  victory\n",
       "0      1.0     bread   22.0   1   Nick        2\n",
       "1      3.0      milk   30.0   3   Amin       33\n",
       "2      3.0      vine   50.0   3   Amin       33\n",
       "3      NaN      None    NaN   2  Zahir        3"
      ]
     },
     "execution_count": 51,
     "metadata": {},
     "output_type": "execute_result"
    }
   ],
   "source": [
    "select(sql)"
   ]
  },
  {
   "cell_type": "code",
   "execution_count": 53,
   "id": "a18c62e4-77d0-416a-99be-a207e5366a6a",
   "metadata": {},
   "outputs": [],
   "source": [
    "df = pd.read_csv('../german_credit_augmented.csv')"
   ]
  },
  {
   "cell_type": "code",
   "execution_count": 55,
   "id": "534de7da-7a1e-4964-b1ee-cdc80910dec5",
   "metadata": {},
   "outputs": [
    {
     "data": {
      "text/plain": [
       "1000"
      ]
     },
     "execution_count": 55,
     "metadata": {},
     "output_type": "execute_result"
    }
   ],
   "source": [
    "df.to_sql('german_credit', con, index=False, if_exists='replace')"
   ]
  },
  {
   "cell_type": "code",
   "execution_count": 58,
   "id": "51ede902-11d4-412d-b3b6-23f50708f7e0",
   "metadata": {},
   "outputs": [],
   "source": [
    "sql = 'select  * from german_credit as t limit 5'"
   ]
  },
  {
   "cell_type": "code",
   "execution_count": 59,
   "id": "7dcc62a0-88dd-4868-b8bc-d0b1930057c8",
   "metadata": {},
   "outputs": [
    {
     "data": {
      "text/html": [
       "<div>\n",
       "<style scoped>\n",
       "    .dataframe tbody tr th:only-of-type {\n",
       "        vertical-align: middle;\n",
       "    }\n",
       "\n",
       "    .dataframe tbody tr th {\n",
       "        vertical-align: top;\n",
       "    }\n",
       "\n",
       "    .dataframe thead th {\n",
       "        text-align: right;\n",
       "    }\n",
       "</style>\n",
       "<table border=\"1\" class=\"dataframe\">\n",
       "  <thead>\n",
       "    <tr style=\"text-align: right;\">\n",
       "      <th></th>\n",
       "      <th>age</th>\n",
       "      <th>sex</th>\n",
       "      <th>job</th>\n",
       "      <th>housing</th>\n",
       "      <th>saving_accounts</th>\n",
       "      <th>checking_account</th>\n",
       "      <th>credit_amount</th>\n",
       "      <th>duration</th>\n",
       "      <th>purpose</th>\n",
       "      <th>default</th>\n",
       "      <th>contract_dt</th>\n",
       "      <th>client_id</th>\n",
       "    </tr>\n",
       "  </thead>\n",
       "  <tbody>\n",
       "    <tr>\n",
       "      <th>0</th>\n",
       "      <td>33</td>\n",
       "      <td>male</td>\n",
       "      <td>2</td>\n",
       "      <td>own</td>\n",
       "      <td>None</td>\n",
       "      <td>None</td>\n",
       "      <td>3074</td>\n",
       "      <td>9</td>\n",
       "      <td>radio/TV</td>\n",
       "      <td>0</td>\n",
       "      <td>2008-06-29 18:52:00</td>\n",
       "      <td>210</td>\n",
       "    </tr>\n",
       "    <tr>\n",
       "      <th>1</th>\n",
       "      <td>43</td>\n",
       "      <td>male</td>\n",
       "      <td>1</td>\n",
       "      <td>own</td>\n",
       "      <td>little</td>\n",
       "      <td>little</td>\n",
       "      <td>1344</td>\n",
       "      <td>12</td>\n",
       "      <td>car</td>\n",
       "      <td>0</td>\n",
       "      <td>2007-05-20 18:30:19</td>\n",
       "      <td>929</td>\n",
       "    </tr>\n",
       "    <tr>\n",
       "      <th>2</th>\n",
       "      <td>52</td>\n",
       "      <td>male</td>\n",
       "      <td>2</td>\n",
       "      <td>own</td>\n",
       "      <td>quite rich</td>\n",
       "      <td>None</td>\n",
       "      <td>936</td>\n",
       "      <td>9</td>\n",
       "      <td>education</td>\n",
       "      <td>0</td>\n",
       "      <td>2008-04-27 08:23:07</td>\n",
       "      <td>200</td>\n",
       "    </tr>\n",
       "    <tr>\n",
       "      <th>3</th>\n",
       "      <td>35</td>\n",
       "      <td>female</td>\n",
       "      <td>3</td>\n",
       "      <td>own</td>\n",
       "      <td>little</td>\n",
       "      <td>None</td>\n",
       "      <td>1393</td>\n",
       "      <td>11</td>\n",
       "      <td>car</td>\n",
       "      <td>0</td>\n",
       "      <td>2007-05-06 10:58:22</td>\n",
       "      <td>45</td>\n",
       "    </tr>\n",
       "    <tr>\n",
       "      <th>4</th>\n",
       "      <td>28</td>\n",
       "      <td>male</td>\n",
       "      <td>2</td>\n",
       "      <td>own</td>\n",
       "      <td>little</td>\n",
       "      <td>None</td>\n",
       "      <td>776</td>\n",
       "      <td>12</td>\n",
       "      <td>radio/TV</td>\n",
       "      <td>0</td>\n",
       "      <td>2007-07-21 13:22:14</td>\n",
       "      <td>358</td>\n",
       "    </tr>\n",
       "  </tbody>\n",
       "</table>\n",
       "</div>"
      ],
      "text/plain": [
       "   age     sex  job housing saving_accounts checking_account  credit_amount  \\\n",
       "0   33    male    2     own            None             None           3074   \n",
       "1   43    male    1     own          little           little           1344   \n",
       "2   52    male    2     own      quite rich             None            936   \n",
       "3   35  female    3     own          little             None           1393   \n",
       "4   28    male    2     own          little             None            776   \n",
       "\n",
       "   duration    purpose  default          contract_dt  client_id  \n",
       "0         9   radio/TV        0  2008-06-29 18:52:00        210  \n",
       "1        12        car        0  2007-05-20 18:30:19        929  \n",
       "2         9  education        0  2008-04-27 08:23:07        200  \n",
       "3        11        car        0  2007-05-06 10:58:22         45  \n",
       "4        12   radio/TV        0  2007-07-21 13:22:14        358  "
      ]
     },
     "execution_count": 59,
     "metadata": {},
     "output_type": "execute_result"
    }
   ],
   "source": [
    "select(sql)"
   ]
  },
  {
   "cell_type": "code",
   "execution_count": 66,
   "id": "89d89a84-89b1-46ce-931f-d5afe684976d",
   "metadata": {},
   "outputs": [],
   "source": [
    "sql = '''\n",
    "       select 1 as user_id \n",
    "       union all\n",
    "       select 2 as user_id\n",
    "       union all \n",
    "       select 3 as user_id\n",
    "       '''"
   ]
  },
  {
   "cell_type": "code",
   "execution_count": 67,
   "id": "59ce5a50-6c09-410a-b7b9-5a1c4b528044",
   "metadata": {},
   "outputs": [
    {
     "data": {
      "text/html": [
       "<div>\n",
       "<style scoped>\n",
       "    .dataframe tbody tr th:only-of-type {\n",
       "        vertical-align: middle;\n",
       "    }\n",
       "\n",
       "    .dataframe tbody tr th {\n",
       "        vertical-align: top;\n",
       "    }\n",
       "\n",
       "    .dataframe thead th {\n",
       "        text-align: right;\n",
       "    }\n",
       "</style>\n",
       "<table border=\"1\" class=\"dataframe\">\n",
       "  <thead>\n",
       "    <tr style=\"text-align: right;\">\n",
       "      <th></th>\n",
       "      <th>user_id</th>\n",
       "    </tr>\n",
       "  </thead>\n",
       "  <tbody>\n",
       "    <tr>\n",
       "      <th>0</th>\n",
       "      <td>1</td>\n",
       "    </tr>\n",
       "    <tr>\n",
       "      <th>1</th>\n",
       "      <td>2</td>\n",
       "    </tr>\n",
       "    <tr>\n",
       "      <th>2</th>\n",
       "      <td>3</td>\n",
       "    </tr>\n",
       "  </tbody>\n",
       "</table>\n",
       "</div>"
      ],
      "text/plain": [
       "   user_id\n",
       "0        1\n",
       "1        2\n",
       "2        3"
      ]
     },
     "execution_count": 67,
     "metadata": {},
     "output_type": "execute_result"
    }
   ],
   "source": [
    "select(sql)"
   ]
  },
  {
   "cell_type": "code",
   "execution_count": 76,
   "id": "47504ef4-0107-49f9-973f-7f3985cc9df9",
   "metadata": {},
   "outputs": [],
   "source": [
    "sql = '''\n",
    "        select date('2023-10-20') as month\n",
    "        union all\n",
    "        select date('2024-02-10') as month\n",
    "        '''"
   ]
  },
  {
   "cell_type": "code",
   "execution_count": 77,
   "id": "7474ce64-c8fe-4d55-a8d7-6286c3af4f14",
   "metadata": {},
   "outputs": [
    {
     "data": {
      "text/html": [
       "<div>\n",
       "<style scoped>\n",
       "    .dataframe tbody tr th:only-of-type {\n",
       "        vertical-align: middle;\n",
       "    }\n",
       "\n",
       "    .dataframe tbody tr th {\n",
       "        vertical-align: top;\n",
       "    }\n",
       "\n",
       "    .dataframe thead th {\n",
       "        text-align: right;\n",
       "    }\n",
       "</style>\n",
       "<table border=\"1\" class=\"dataframe\">\n",
       "  <thead>\n",
       "    <tr style=\"text-align: right;\">\n",
       "      <th></th>\n",
       "      <th>month</th>\n",
       "    </tr>\n",
       "  </thead>\n",
       "  <tbody>\n",
       "    <tr>\n",
       "      <th>0</th>\n",
       "      <td>2023-10-20</td>\n",
       "    </tr>\n",
       "    <tr>\n",
       "      <th>1</th>\n",
       "      <td>2024-02-10</td>\n",
       "    </tr>\n",
       "  </tbody>\n",
       "</table>\n",
       "</div>"
      ],
      "text/plain": [
       "        month\n",
       "0  2023-10-20\n",
       "1  2024-02-10"
      ]
     },
     "execution_count": 77,
     "metadata": {},
     "output_type": "execute_result"
    }
   ],
   "source": [
    "select(sql)"
   ]
  },
  {
   "cell_type": "code",
   "execution_count": 91,
   "id": "9d983354-a96d-41a1-b348-84e6b497cab3",
   "metadata": {},
   "outputs": [],
   "source": [
    "sql ='''with users as (\n",
    "    select 1 as user_id \n",
    "    union all\n",
    "    select 2 as user_id\n",
    "    union all \n",
    "    select 3 as user_id),\n",
    "\n",
    "    month as (select date('2023-10-20') as month\n",
    "    union all\n",
    "    select date('2024-02-10') as month)\n",
    "\n",
    "    select * from users as t\n",
    "    join month as m on 1=1\n",
    "    '''"
   ]
  },
  {
   "cell_type": "code",
   "execution_count": 92,
   "id": "a0da248a-8ddb-42d2-b733-eb4aa807d9eb",
   "metadata": {},
   "outputs": [
    {
     "data": {
      "text/html": [
       "<div>\n",
       "<style scoped>\n",
       "    .dataframe tbody tr th:only-of-type {\n",
       "        vertical-align: middle;\n",
       "    }\n",
       "\n",
       "    .dataframe tbody tr th {\n",
       "        vertical-align: top;\n",
       "    }\n",
       "\n",
       "    .dataframe thead th {\n",
       "        text-align: right;\n",
       "    }\n",
       "</style>\n",
       "<table border=\"1\" class=\"dataframe\">\n",
       "  <thead>\n",
       "    <tr style=\"text-align: right;\">\n",
       "      <th></th>\n",
       "      <th>user_id</th>\n",
       "      <th>month</th>\n",
       "    </tr>\n",
       "  </thead>\n",
       "  <tbody>\n",
       "    <tr>\n",
       "      <th>0</th>\n",
       "      <td>1</td>\n",
       "      <td>2023-10-20</td>\n",
       "    </tr>\n",
       "    <tr>\n",
       "      <th>1</th>\n",
       "      <td>2</td>\n",
       "      <td>2023-10-20</td>\n",
       "    </tr>\n",
       "    <tr>\n",
       "      <th>2</th>\n",
       "      <td>3</td>\n",
       "      <td>2023-10-20</td>\n",
       "    </tr>\n",
       "    <tr>\n",
       "      <th>3</th>\n",
       "      <td>1</td>\n",
       "      <td>2024-02-10</td>\n",
       "    </tr>\n",
       "    <tr>\n",
       "      <th>4</th>\n",
       "      <td>2</td>\n",
       "      <td>2024-02-10</td>\n",
       "    </tr>\n",
       "    <tr>\n",
       "      <th>5</th>\n",
       "      <td>3</td>\n",
       "      <td>2024-02-10</td>\n",
       "    </tr>\n",
       "  </tbody>\n",
       "</table>\n",
       "</div>"
      ],
      "text/plain": [
       "   user_id       month\n",
       "0        1  2023-10-20\n",
       "1        2  2023-10-20\n",
       "2        3  2023-10-20\n",
       "3        1  2024-02-10\n",
       "4        2  2024-02-10\n",
       "5        3  2024-02-10"
      ]
     },
     "execution_count": 92,
     "metadata": {},
     "output_type": "execute_result"
    }
   ],
   "source": [
    "select(sql)"
   ]
  },
  {
   "cell_type": "code",
   "execution_count": 93,
   "id": "103822cf-fc07-4422-8565-b55a8b007ceb",
   "metadata": {},
   "outputs": [],
   "source": [
    "transactions = pd.read_csv('../german_credit_augmented_transactions.csv')"
   ]
  },
  {
   "cell_type": "code",
   "execution_count": 94,
   "id": "12af5fa5-5725-4bc4-9cc3-266747dcd914",
   "metadata": {},
   "outputs": [
    {
     "data": {
      "text/html": [
       "<div>\n",
       "<style scoped>\n",
       "    .dataframe tbody tr th:only-of-type {\n",
       "        vertical-align: middle;\n",
       "    }\n",
       "\n",
       "    .dataframe tbody tr th {\n",
       "        vertical-align: top;\n",
       "    }\n",
       "\n",
       "    .dataframe thead th {\n",
       "        text-align: right;\n",
       "    }\n",
       "</style>\n",
       "<table border=\"1\" class=\"dataframe\">\n",
       "  <thead>\n",
       "    <tr style=\"text-align: right;\">\n",
       "      <th></th>\n",
       "      <th>dt</th>\n",
       "      <th>client_id</th>\n",
       "      <th>amount</th>\n",
       "    </tr>\n",
       "  </thead>\n",
       "  <tbody>\n",
       "    <tr>\n",
       "      <th>0</th>\n",
       "      <td>2008-04-06 11:54:47</td>\n",
       "      <td>950</td>\n",
       "      <td>161.38</td>\n",
       "    </tr>\n",
       "    <tr>\n",
       "      <th>1</th>\n",
       "      <td>2007-07-28 00:00:19</td>\n",
       "      <td>418</td>\n",
       "      <td>35.34</td>\n",
       "    </tr>\n",
       "    <tr>\n",
       "      <th>2</th>\n",
       "      <td>2008-03-14 20:43:54</td>\n",
       "      <td>131</td>\n",
       "      <td>146.50</td>\n",
       "    </tr>\n",
       "    <tr>\n",
       "      <th>3</th>\n",
       "      <td>2007-12-18 13:03:24</td>\n",
       "      <td>353</td>\n",
       "      <td>119.21</td>\n",
       "    </tr>\n",
       "    <tr>\n",
       "      <th>4</th>\n",
       "      <td>2007-11-09 05:18:30</td>\n",
       "      <td>849</td>\n",
       "      <td>105.24</td>\n",
       "    </tr>\n",
       "  </tbody>\n",
       "</table>\n",
       "</div>"
      ],
      "text/plain": [
       "                    dt  client_id  amount\n",
       "0  2008-04-06 11:54:47        950  161.38\n",
       "1  2007-07-28 00:00:19        418   35.34\n",
       "2  2008-03-14 20:43:54        131  146.50\n",
       "3  2007-12-18 13:03:24        353  119.21\n",
       "4  2007-11-09 05:18:30        849  105.24"
      ]
     },
     "execution_count": 94,
     "metadata": {},
     "output_type": "execute_result"
    }
   ],
   "source": [
    "transactions.head(5)"
   ]
  },
  {
   "cell_type": "code",
   "execution_count": 95,
   "id": "3732c075-1e0a-4897-9639-c1af542d763a",
   "metadata": {},
   "outputs": [
    {
     "data": {
      "text/plain": [
       "4275"
      ]
     },
     "execution_count": 95,
     "metadata": {},
     "output_type": "execute_result"
    }
   ],
   "source": [
    "transactions.to_sql('transactions', con, index=False, if_exists='replace')"
   ]
  },
  {
   "cell_type": "code",
   "execution_count": 145,
   "id": "18077d6c-967e-4c08-ba7d-1dc07407be47",
   "metadata": {},
   "outputs": [],
   "source": [
    "sql = '''select date(t.dt, 'start of month') as mount, \n",
    "sum(t.amount) as transactions_amount, \n",
    "count(1) as transactions_cnt from transactions as t\n",
    "    group by 1\n",
    "    order by 1'''"
   ]
  },
  {
   "cell_type": "code",
   "execution_count": 146,
   "id": "16e5cede-16cd-4b69-86c3-4e95f5fd6254",
   "metadata": {},
   "outputs": [
    {
     "data": {
      "text/html": [
       "<div>\n",
       "<style scoped>\n",
       "    .dataframe tbody tr th:only-of-type {\n",
       "        vertical-align: middle;\n",
       "    }\n",
       "\n",
       "    .dataframe tbody tr th {\n",
       "        vertical-align: top;\n",
       "    }\n",
       "\n",
       "    .dataframe thead th {\n",
       "        text-align: right;\n",
       "    }\n",
       "</style>\n",
       "<table border=\"1\" class=\"dataframe\">\n",
       "  <thead>\n",
       "    <tr style=\"text-align: right;\">\n",
       "      <th></th>\n",
       "      <th>mount</th>\n",
       "      <th>transactions_amount</th>\n",
       "      <th>transactions_cnt</th>\n",
       "    </tr>\n",
       "  </thead>\n",
       "  <tbody>\n",
       "    <tr>\n",
       "      <th>0</th>\n",
       "      <td>2007-05-01</td>\n",
       "      <td>450912.77</td>\n",
       "      <td>338</td>\n",
       "    </tr>\n",
       "    <tr>\n",
       "      <th>1</th>\n",
       "      <td>2007-06-01</td>\n",
       "      <td>551664.83</td>\n",
       "      <td>379</td>\n",
       "    </tr>\n",
       "    <tr>\n",
       "      <th>2</th>\n",
       "      <td>2007-07-01</td>\n",
       "      <td>494134.50</td>\n",
       "      <td>304</td>\n",
       "    </tr>\n",
       "    <tr>\n",
       "      <th>3</th>\n",
       "      <td>2007-08-01</td>\n",
       "      <td>426903.23</td>\n",
       "      <td>255</td>\n",
       "    </tr>\n",
       "    <tr>\n",
       "      <th>4</th>\n",
       "      <td>2007-10-01</td>\n",
       "      <td>634846.49</td>\n",
       "      <td>332</td>\n",
       "    </tr>\n",
       "    <tr>\n",
       "      <th>5</th>\n",
       "      <td>2007-11-01</td>\n",
       "      <td>500420.98</td>\n",
       "      <td>389</td>\n",
       "    </tr>\n",
       "    <tr>\n",
       "      <th>6</th>\n",
       "      <td>2007-12-01</td>\n",
       "      <td>561449.89</td>\n",
       "      <td>364</td>\n",
       "    </tr>\n",
       "    <tr>\n",
       "      <th>7</th>\n",
       "      <td>2008-01-01</td>\n",
       "      <td>630137.22</td>\n",
       "      <td>413</td>\n",
       "    </tr>\n",
       "    <tr>\n",
       "      <th>8</th>\n",
       "      <td>2008-02-01</td>\n",
       "      <td>337043.47</td>\n",
       "      <td>228</td>\n",
       "    </tr>\n",
       "    <tr>\n",
       "      <th>9</th>\n",
       "      <td>2008-03-01</td>\n",
       "      <td>425599.09</td>\n",
       "      <td>309</td>\n",
       "    </tr>\n",
       "    <tr>\n",
       "      <th>10</th>\n",
       "      <td>2008-04-01</td>\n",
       "      <td>677194.97</td>\n",
       "      <td>383</td>\n",
       "    </tr>\n",
       "    <tr>\n",
       "      <th>11</th>\n",
       "      <td>2008-05-01</td>\n",
       "      <td>474962.34</td>\n",
       "      <td>310</td>\n",
       "    </tr>\n",
       "    <tr>\n",
       "      <th>12</th>\n",
       "      <td>2008-06-01</td>\n",
       "      <td>383710.84</td>\n",
       "      <td>271</td>\n",
       "    </tr>\n",
       "  </tbody>\n",
       "</table>\n",
       "</div>"
      ],
      "text/plain": [
       "         mount  transactions_amount  transactions_cnt\n",
       "0   2007-05-01            450912.77               338\n",
       "1   2007-06-01            551664.83               379\n",
       "2   2007-07-01            494134.50               304\n",
       "3   2007-08-01            426903.23               255\n",
       "4   2007-10-01            634846.49               332\n",
       "5   2007-11-01            500420.98               389\n",
       "6   2007-12-01            561449.89               364\n",
       "7   2008-01-01            630137.22               413\n",
       "8   2008-02-01            337043.47               228\n",
       "9   2008-03-01            425599.09               309\n",
       "10  2008-04-01            677194.97               383\n",
       "11  2008-05-01            474962.34               310\n",
       "12  2008-06-01            383710.84               271"
      ]
     },
     "execution_count": 146,
     "metadata": {},
     "output_type": "execute_result"
    }
   ],
   "source": [
    "select(sql)"
   ]
  },
  {
   "cell_type": "code",
   "execution_count": null,
   "id": "9f484014-2c4c-4b13-b436-240e6a404a9b",
   "metadata": {},
   "outputs": [],
   "source": []
  }
 ],
 "metadata": {
  "kernelspec": {
   "display_name": "Python 3 (ipykernel)",
   "language": "python",
   "name": "python3"
  },
  "language_info": {
   "codemirror_mode": {
    "name": "ipython",
    "version": 3
   },
   "file_extension": ".py",
   "mimetype": "text/x-python",
   "name": "python",
   "nbconvert_exporter": "python",
   "pygments_lexer": "ipython3",
   "version": "3.11.7"
  },
  "widgets": {
   "application/vnd.jupyter.widget-state+json": {
    "state": {},
    "version_major": 2,
    "version_minor": 0
   }
  }
 },
 "nbformat": 4,
 "nbformat_minor": 5
}
