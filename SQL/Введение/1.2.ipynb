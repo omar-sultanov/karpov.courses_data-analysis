{
 "cells": [
  {
   "cell_type": "code",
   "execution_count": 1,
   "id": "6a2c18f3-df23-4f81-a8c1-76755b4b28ed",
   "metadata": {},
   "outputs": [],
   "source": [
    "import pandas as pd\n",
    "import sqlite3"
   ]
  },
  {
   "cell_type": "code",
   "execution_count": 2,
   "id": "ce8ad5f2-8f67-436e-9d8c-87f5ac91c01c",
   "metadata": {},
   "outputs": [],
   "source": [
    "con = sqlite3.connect('db')"
   ]
  },
  {
   "cell_type": "code",
   "execution_count": 7,
   "id": "bb9f70a0-c3db-4765-8ad5-754e47951fb0",
   "metadata": {},
   "outputs": [],
   "source": [
    "url = 'https://docs.google.com/spreadsheets/d/1JGPelh8YJCZgXhyq2aFiwnEmC03s0vHpnD-2xvopp8U/edit?usp=sharing'"
   ]
  },
  {
   "cell_type": "code",
   "execution_count": 8,
   "id": "fe6e1a42-85a7-4af9-bf75-b2a1306b8ea1",
   "metadata": {},
   "outputs": [],
   "source": [
    "id = url.split('/')[5]"
   ]
  },
  {
   "cell_type": "code",
   "execution_count": 9,
   "id": "63233d88-7faf-42b9-b04c-2eb28380a93c",
   "metadata": {},
   "outputs": [
    {
     "data": {
      "text/plain": [
       "'1JGPelh8YJCZgXhyq2aFiwnEmC03s0vHpnD-2xvopp8U'"
      ]
     },
     "execution_count": 9,
     "metadata": {},
     "output_type": "execute_result"
    }
   ],
   "source": [
    "id"
   ]
  },
  {
   "cell_type": "code",
   "execution_count": 10,
   "id": "cd18bc38-0df8-4918-9527-6451b83bbc61",
   "metadata": {},
   "outputs": [],
   "source": [
    "df = pd.read_csv(f'https://docs.google.com/spreadsheets/d/{id}/export?format=csv')"
   ]
  },
  {
   "cell_type": "code",
   "execution_count": 20,
   "id": "8e923d50-5d26-43d4-b32b-5391b76ea1d1",
   "metadata": {},
   "outputs": [],
   "source": [
    "sql = '''select * from list_users t'''"
   ]
  },
  {
   "cell_type": "code",
   "execution_count": 21,
   "id": "e70019fd-9086-4a3d-a936-5873b53372ce",
   "metadata": {},
   "outputs": [
    {
     "data": {
      "text/plain": [
       "8"
      ]
     },
     "execution_count": 21,
     "metadata": {},
     "output_type": "execute_result"
    }
   ],
   "source": [
    "df.to_sql('list_users', con, index=False, if_exists='replace')"
   ]
  },
  {
   "cell_type": "code",
   "execution_count": 23,
   "id": "7b88da71-3c31-438c-b24d-aca237ba2249",
   "metadata": {},
   "outputs": [
    {
     "data": {
      "text/html": [
       "<div>\n",
       "<style scoped>\n",
       "    .dataframe tbody tr th:only-of-type {\n",
       "        vertical-align: middle;\n",
       "    }\n",
       "\n",
       "    .dataframe tbody tr th {\n",
       "        vertical-align: top;\n",
       "    }\n",
       "\n",
       "    .dataframe thead th {\n",
       "        text-align: right;\n",
       "    }\n",
       "</style>\n",
       "<table border=\"1\" class=\"dataframe\">\n",
       "  <thead>\n",
       "    <tr style=\"text-align: right;\">\n",
       "      <th></th>\n",
       "      <th>Unnamed: 0</th>\n",
       "      <th>name</th>\n",
       "      <th>surname</th>\n",
       "      <th>age</th>\n",
       "    </tr>\n",
       "  </thead>\n",
       "  <tbody>\n",
       "    <tr>\n",
       "      <th>0</th>\n",
       "      <td>0</td>\n",
       "      <td>Ali</td>\n",
       "      <td>Sultan</td>\n",
       "      <td>22</td>\n",
       "    </tr>\n",
       "    <tr>\n",
       "      <th>1</th>\n",
       "      <td>1</td>\n",
       "      <td>Enver</td>\n",
       "      <td>Kaya</td>\n",
       "      <td>33</td>\n",
       "    </tr>\n",
       "    <tr>\n",
       "      <th>2</th>\n",
       "      <td>2</td>\n",
       "      <td>Olya</td>\n",
       "      <td>Sniyakova</td>\n",
       "      <td>26</td>\n",
       "    </tr>\n",
       "    <tr>\n",
       "      <th>3</th>\n",
       "      <td>3</td>\n",
       "      <td>Olya</td>\n",
       "      <td>Sniyakova</td>\n",
       "      <td>26</td>\n",
       "    </tr>\n",
       "    <tr>\n",
       "      <th>4</th>\n",
       "      <td>4</td>\n",
       "      <td>Olya</td>\n",
       "      <td>Sniyakova</td>\n",
       "      <td>26</td>\n",
       "    </tr>\n",
       "    <tr>\n",
       "      <th>5</th>\n",
       "      <td>5</td>\n",
       "      <td>Olya</td>\n",
       "      <td>Sniyakova</td>\n",
       "      <td>26</td>\n",
       "    </tr>\n",
       "    <tr>\n",
       "      <th>6</th>\n",
       "      <td>6</td>\n",
       "      <td>Olya</td>\n",
       "      <td>Sniyakova</td>\n",
       "      <td>26</td>\n",
       "    </tr>\n",
       "    <tr>\n",
       "      <th>7</th>\n",
       "      <td>7</td>\n",
       "      <td>Olya</td>\n",
       "      <td>Sniyakova</td>\n",
       "      <td>26</td>\n",
       "    </tr>\n",
       "  </tbody>\n",
       "</table>\n",
       "</div>"
      ],
      "text/plain": [
       "   Unnamed: 0   name    surname  age\n",
       "0           0    Ali     Sultan   22\n",
       "1           1  Enver       Kaya   33\n",
       "2           2   Olya  Sniyakova   26\n",
       "3           3   Olya  Sniyakova   26\n",
       "4           4   Olya  Sniyakova   26\n",
       "5           5   Olya  Sniyakova   26\n",
       "6           6   Olya  Sniyakova   26\n",
       "7           7   Olya  Sniyakova   26"
      ]
     },
     "execution_count": 23,
     "metadata": {},
     "output_type": "execute_result"
    }
   ],
   "source": [
    "pd.read_sql(sql, con)"
   ]
  },
  {
   "cell_type": "code",
   "execution_count": 25,
   "id": "30d34a0a-a60b-484d-bb65-429cf35b99bc",
   "metadata": {},
   "outputs": [],
   "source": [
    "def select(sql):\n",
    "    return pd.read_sql(sql, con)"
   ]
  },
  {
   "cell_type": "code",
   "execution_count": 26,
   "id": "38a14f0d-ac6a-4ffc-958f-6f9c1cf5b598",
   "metadata": {},
   "outputs": [
    {
     "data": {
      "text/html": [
       "<div>\n",
       "<style scoped>\n",
       "    .dataframe tbody tr th:only-of-type {\n",
       "        vertical-align: middle;\n",
       "    }\n",
       "\n",
       "    .dataframe tbody tr th {\n",
       "        vertical-align: top;\n",
       "    }\n",
       "\n",
       "    .dataframe thead th {\n",
       "        text-align: right;\n",
       "    }\n",
       "</style>\n",
       "<table border=\"1\" class=\"dataframe\">\n",
       "  <thead>\n",
       "    <tr style=\"text-align: right;\">\n",
       "      <th></th>\n",
       "      <th>Unnamed: 0</th>\n",
       "      <th>name</th>\n",
       "      <th>surname</th>\n",
       "      <th>age</th>\n",
       "    </tr>\n",
       "  </thead>\n",
       "  <tbody>\n",
       "    <tr>\n",
       "      <th>0</th>\n",
       "      <td>0</td>\n",
       "      <td>Ali</td>\n",
       "      <td>Sultan</td>\n",
       "      <td>22</td>\n",
       "    </tr>\n",
       "    <tr>\n",
       "      <th>1</th>\n",
       "      <td>1</td>\n",
       "      <td>Enver</td>\n",
       "      <td>Kaya</td>\n",
       "      <td>33</td>\n",
       "    </tr>\n",
       "    <tr>\n",
       "      <th>2</th>\n",
       "      <td>2</td>\n",
       "      <td>Olya</td>\n",
       "      <td>Sniyakova</td>\n",
       "      <td>26</td>\n",
       "    </tr>\n",
       "    <tr>\n",
       "      <th>3</th>\n",
       "      <td>3</td>\n",
       "      <td>Olya</td>\n",
       "      <td>Sniyakova</td>\n",
       "      <td>26</td>\n",
       "    </tr>\n",
       "    <tr>\n",
       "      <th>4</th>\n",
       "      <td>4</td>\n",
       "      <td>Olya</td>\n",
       "      <td>Sniyakova</td>\n",
       "      <td>26</td>\n",
       "    </tr>\n",
       "    <tr>\n",
       "      <th>5</th>\n",
       "      <td>5</td>\n",
       "      <td>Olya</td>\n",
       "      <td>Sniyakova</td>\n",
       "      <td>26</td>\n",
       "    </tr>\n",
       "    <tr>\n",
       "      <th>6</th>\n",
       "      <td>6</td>\n",
       "      <td>Olya</td>\n",
       "      <td>Sniyakova</td>\n",
       "      <td>26</td>\n",
       "    </tr>\n",
       "    <tr>\n",
       "      <th>7</th>\n",
       "      <td>7</td>\n",
       "      <td>Olya</td>\n",
       "      <td>Sniyakova</td>\n",
       "      <td>26</td>\n",
       "    </tr>\n",
       "  </tbody>\n",
       "</table>\n",
       "</div>"
      ],
      "text/plain": [
       "   Unnamed: 0   name    surname  age\n",
       "0           0    Ali     Sultan   22\n",
       "1           1  Enver       Kaya   33\n",
       "2           2   Olya  Sniyakova   26\n",
       "3           3   Olya  Sniyakova   26\n",
       "4           4   Olya  Sniyakova   26\n",
       "5           5   Olya  Sniyakova   26\n",
       "6           6   Olya  Sniyakova   26\n",
       "7           7   Olya  Sniyakova   26"
      ]
     },
     "execution_count": 26,
     "metadata": {},
     "output_type": "execute_result"
    }
   ],
   "source": [
    "select(sql)"
   ]
  },
  {
   "cell_type": "code",
   "execution_count": null,
   "id": "6b6d3a1f-12b3-47cb-8eae-e182f4577fec",
   "metadata": {},
   "outputs": [],
   "source": [
    "# users_name - sneake case"
   ]
  }
 ],
 "metadata": {
  "kernelspec": {
   "display_name": "Python 3 (ipykernel)",
   "language": "python",
   "name": "python3"
  },
  "language_info": {
   "codemirror_mode": {
    "name": "ipython",
    "version": 3
   },
   "file_extension": ".py",
   "mimetype": "text/x-python",
   "name": "python",
   "nbconvert_exporter": "python",
   "pygments_lexer": "ipython3",
   "version": "3.11.7"
  },
  "widgets": {
   "application/vnd.jupyter.widget-state+json": {
    "state": {},
    "version_major": 2,
    "version_minor": 0
   }
  }
 },
 "nbformat": 4,
 "nbformat_minor": 5
}
